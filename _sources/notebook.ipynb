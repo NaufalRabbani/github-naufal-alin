{
 "cells": [
  {
   "cell_type": "markdown",
   "metadata": {},
   "source": [
    "# Content with notebooks\n",
    "\n",
    "You can also create content with Jupyter Notebooks. This means that you can include\n",
    "code blocks and their outputs in your book.\n",
    "\n",
    "## Markdown + notebooks\n",
    "\n",
    "As it is markdown, you can embed images, HTML, etc into your posts!\n",
    "\n",
    "![](https://myst-parser.readthedocs.io/en/latest/_static/logo-wide.svg)\n",
    "\n",
    "You can also $add_{math}$ and\n",
    "\n",
    "$$\n",
    "math^{blocks}\n",
    "$$\n",
    "\n",
    "or\n",
    "\n",
    "$$\n",
    "\\begin{aligned}\n",
    "\\mbox{mean} la_{tex} \\\\ \\\\\n",
    "math blocks\n",
    "\\end{aligned}\n",
    "$$\n",
    "\n",
    "But make sure you \\$Escape \\$your \\$dollar signs \\$you want to keep!\n",
    "\n",
    "## MyST markdown\n",
    "\n",
    "MyST markdown works in Jupyter Notebooks as well. For more information about MyST markdown, check\n",
    "out [the MyST guide in Jupyter Book](https://jupyterbook.org/content/myst.html),\n",
    "or see [the MyST markdown documentation](https://myst-parser.readthedocs.io/en/latest/).\n",
    "\n",
    "## Code blocks and outputs\n",
    "\n",
    "Jupyter Book will also embed your code blocks and output in your book.\n",
    "For example, here's some sample Matplotlib code:"
   ]
  },
  {
   "cell_type": "code",
   "execution_count": null,
   "metadata": {},
   "outputs": [],
   "source": [
    "from matplotlib import rcParams, cycler\n",
    "import matplotlib.pyplot as plt\n",
    "import numpy as np\n",
    "plt.ion()"
   ]
  },
  {
   "cell_type": "code",
   "execution_count": null,
   "metadata": {},
   "outputs": [],
   "source": [
    "# Fixing random state for reproducibility\n",
    "np.random.seed(19680801)\n",
    "\n",
    "N = 10\n",
    "data = [np.logspace(0, 1, 100) + np.random.randn(100) + ii for ii in range(N)]\n",
    "data = np.array(data).T\n",
    "cmap = plt.cm.coolwarm\n",
    "rcParams['axes.prop_cycle'] = cycler(color=cmap(np.linspace(0, 1, N)))\n",
    "\n",
    "\n",
    "from matplotlib.lines import Line2D\n",
    "custom_lines = [Line2D([0], [0], color=cmap(0.), lw=4),\n",
    "                Line2D([0], [0], color=cmap(.5), lw=4),\n",
    "                Line2D([0], [0], color=cmap(1.), lw=4)]\n",
    "\n",
    "fig, ax = plt.subplots(figsize=(10, 5))\n",
    "lines = ax.plot(data)\n",
    "ax.legend(custom_lines, ['Cold', 'Medium', 'Hot']);"
   ]
  },
  {
   "cell_type": "markdown",
   "metadata": {},
   "source": [
    "There is a lot more that you can do with outputs (such as including interactive outputs)\n",
    "with your book. For more information about this, see [the Jupyter Book documentation](https://jupyterbook.org)"
   ]
  },
  {
   "cell_type": "markdown",
   "metadata": {},
   "source": [
    "sistem linier\n",
    "\n",
    "$x^2 + 3x + 4$  "
   ]
  },
  {
   "cell_type": "code",
   "execution_count": null,
   "metadata": {},
   "outputs": [],
   "source": [
    "A = np.array([[5, 4, 0],[1,8,3],[6,7,2]])\n",
    "A_T = A.transpose()\n",
    "print(A)\n",
    "print('\\n')\n",
    "print(A_T)"
   ]
  },
  {
   "cell_type": "code",
   "execution_count": null,
   "metadata": {},
   "outputs": [],
   "source": [
    "C = A * A_T\n",
    "C_T = C.transpose()\n",
    "COV = C * C_T\n",
    "print(COV)\n",
    "print(COV.shape)"
   ]
  },
  {
   "cell_type": "code",
   "execution_count": null,
   "metadata": {},
   "outputs": [],
   "source": [
    "A = np.array([[2,1],[1,2]])\n",
    "A_T = A.transpose()\n",
    "print(A)\n",
    "print(A_T) "
   ]
  },
  {
   "cell_type": "code",
   "execution_count": null,
   "metadata": {},
   "outputs": [],
   "source": [
    "M = np.array ([[10, 3, 5], [3, 7, 9], [5, 9, 12]])\n",
    "M_T = M.transpose()\n",
    "print(M)\n",
    "print(M_T)"
   ]
  },
  {
   "cell_type": "code",
   "execution_count": null,
   "metadata": {},
   "outputs": [],
   "source": [
    "A = np.random.randint(10, size=(3,3))\n",
    "B = np.random.randint(10, size=(3,3))\n",
    "D = np.random.randint(10, size=(3,3))\n",
    "E = (( A + B) * C)\n",
    "F = E.transpose()\n",
    "print(A)\n",
    "print(B)\n",
    "print(C)\n",
    "print(E)\n",
    "print(F)\n"
   ]
  }
 ],
 "metadata": {
  "kernelspec": {
   "display_name": "Python 3",
   "language": "python",
   "name": "python3"
  },
  "language_info": {
   "codemirror_mode": {
    "name": "ipython",
    "version": 3
   },
   "file_extension": ".py",
   "mimetype": "text/x-python",
   "name": "python",
   "nbconvert_exporter": "python",
   "pygments_lexer": "ipython3",
   "version": "3.8.0"
  },
  "widgets": {
   "application/vnd.jupyter.widget-state+json": {
    "state": {},
    "version_major": 2,
    "version_minor": 0
   }
  }
 },
 "nbformat": 4,
 "nbformat_minor": 4
}
