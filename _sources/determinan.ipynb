{
  "cells": [
    {
      "cell_type": "markdown",
      "metadata": {
        "id": "uiCcGN8aYimg"
      },
      "source": [
        "# Determinan\n",
        "Determinan adalah skalar dari suatu matriks\n",
        "\n"
      ]
    },
    {
      "cell_type": "code",
      "execution_count": 1,
      "metadata": {
        "colab": {
          "base_uri": "https://localhost:8080/"
        },
        "id": "pdqvP2oyapZ_",
        "outputId": "562d4282-619b-4bf9-9d0e-435565458563"
      },
      "outputs": [
        {
          "name": "stdout",
          "output_type": "stream",
          "text": [
            "[[1 2]\n",
            " [3 4]]\n",
            "[[2 3 5]\n",
            " [8 4 7]\n",
            " [6 9 1]]\n"
          ]
        }
      ],
      "source": [
        "import numpy as np\n",
        "A =np.array([[1 , 2],[3 , 4]])\n",
        "B = np.array([[2, 3, 5],[8, 4, 7],[6, 9, 1]])\n",
        "print(A)\n",
        "print(B)"
      ]
    },
    {
      "cell_type": "markdown",
      "metadata": {
        "id": "IBem9jkEbMEF"
      },
      "source": [
        "## Sifat-sifat determinan\n",
        "Sifat-sifat Determinan adalah sebagai berikut:\n",
        "1. Determinan matriks identitas sama dengan $1$ \\\n",
        "  Jadi $I × I^{-1} = 1$\\\n",
        "  Contoh :\\\n",
        "  $I_{2 \\times 2} = \\begin {bmatrix}\n",
        "0 & 1 \\\\\n",
        "1 & 0\n",
        "\\end {bmatrix}$\\\n",
        "$I_{3 \\times 3} = \\begin {bmatrix}\n",
        "1 & 0 & 0 \\\\\n",
        "0 & 1 & 0 \\\\\n",
        "0 & 0 & 1\n",
        "\\end {bmatrix}$\\\n",
        "$I = AA^{-1}$\\\n",
        "$det I = det A × det A^{-1}$\\\n",
        "$det A = 1 \\div det A^{-1}$\n"
      ]
    },
    {
      "cell_type": "code",
      "execution_count": 2,
      "metadata": {
        "colab": {
          "base_uri": "https://localhost:8080/"
        },
        "id": "IYUd-HHpbxNc",
        "outputId": "1d3cd37e-c807-4587-8c65-5b273355f9ef"
      },
      "outputs": [
        {
          "name": "stdout",
          "output_type": "stream",
          "text": [
            "[[1 0]\n",
            " [0 1]]\n",
            "[[1 0 0]\n",
            " [0 1 0]\n",
            " [0 0 1]]\n"
          ]
        }
      ],
      "source": [
        "I= np.array([[1,0],[0,1]])\n",
        "L= np. array([[1,0,0],[0,1,0],[0,0,1]])\n",
        "print(I)\n",
        "print(L)"
      ]
    },
    {
      "cell_type": "code",
      "execution_count": 3,
      "metadata": {
        "colab": {
          "base_uri": "https://localhost:8080/"
        },
        "id": "OcGtRStXcEMs",
        "outputId": "be09b066-462f-4bdc-9877-92b3b9f5f522"
      },
      "outputs": [
        {
          "name": "stdout",
          "output_type": "stream",
          "text": [
            "-2.0000000000000004\n",
            "223.99999999999994\n",
            "1.0\n",
            "[[-2.   1. ]\n",
            " [ 1.5 -0.5]]\n",
            "[[-2.63392857e-01  1.87500000e-01  4.46428571e-03]\n",
            " [ 1.51785714e-01 -1.25000000e-01  1.16071429e-01]\n",
            " [ 2.14285714e-01 -2.97381167e-18 -7.14285714e-02]]\n",
            "-0.4999999999999999\n",
            "0.004464285714285716\n"
          ]
        }
      ],
      "source": [
        "C = np.linalg.inv(A)\n",
        "D = np.linalg.inv(B)\n",
        "E = 1/np.linalg.det(A)\n",
        "F = 1/np.linalg.det(B)\n",
        "print(np.linalg.det(A))\n",
        "print(np.linalg.det(B))\n",
        "print(np.linalg.det(I))\n",
        "print(C)\n",
        "print(D)\n",
        "print(E)\n",
        "print(F)"
      ]
    },
    {
      "cell_type": "code",
      "execution_count": 4,
      "metadata": {
        "id": "wCL8gxsUdeRs"
      },
      "outputs": [],
      "source": [
        "# import library numpy\n",
        "import numpy as np\n",
        "\n",
        "def RowSwap(A,k,l):\n",
        "# =============================================================================\n",
        "#     A adalah sebuah NumPy array.  RowSwap akan menghasilkan duplicate dari\n",
        "#     array dengan baris k dan l di tukar\n",
        "# =============================================================================\n",
        "    m = A.shape[0]  # m adalah nomor baris di A\n",
        "    n = A.shape[1]  # n adalah nomor kolom di A\n",
        "\n",
        "    B = np.copy(A).astype('float64')\n",
        "\n",
        "    for j in range(n):\n",
        "        temp = B[k][j]\n",
        "        B[k][j] = B[l][j]\n",
        "        B[l][j] = temp\n",
        "\n",
        "    return B\n",
        "\n",
        "def RowScale(A,k,scale):\n",
        "# =============================================================================\n",
        "#     A adalah sebuah NumPy array.  RowScale akan menghasilkan duplicate dari\n",
        "#     array dengan baris k di kali dengan skalar bukan 0\n",
        "# =============================================================================\n",
        "    m = A.shape[0]  # m adalah nomor baris di A\n",
        "    n = A.shape[1]  # n adalah nomor kolom di A\n",
        "\n",
        "    B = np.copy(A).astype('float64')\n",
        "\n",
        "    for j in range(n):\n",
        "        B[k][j] *= scale\n",
        "\n",
        "    return B\n",
        "\n",
        "def RowAdd(A,k,l,scale):\n",
        "# =============================================================================\n",
        "#     A adalah sebuah NumPy array.  RowAdd akan menghasilkan duplicate dari\n",
        "#     array dengan baris k akan di kali dengan 'scale' bukan 0. lalu nilai\n",
        "#     baris l akan di tambah dengan nilai baris k yang sudah dikalikan\n",
        "# =============================================================================\n",
        "    m = A.shape[0]  # m adalah nomor baris di A\n",
        "    n = A.shape[1]  # n adalah nomor kolom di A\n",
        "\n",
        "    B = np.copy(A).astype('float64')\n",
        "\n",
        "    for j in range(n):\n",
        "        B[l][j] += B[k][j]*scale\n",
        "\n",
        "    return B"
      ]
    },
    {
      "cell_type": "markdown",
      "metadata": {
        "id": "kN0uNTFKfFmF"
      },
      "source": [
        "2. Determinan $AB$ = $det A × det B$\\\n"
      ]
    },
    {
      "cell_type": "code",
      "execution_count": 5,
      "metadata": {
        "colab": {
          "base_uri": "https://localhost:8080/"
        },
        "id": "p1tJ3DJmgfdu",
        "outputId": "e4d9b832-11b5-4041-8f0d-ab36d7400557"
      },
      "outputs": [
        {
          "name": "stdout",
          "output_type": "stream",
          "text": [
            "[[1 4 2]\n",
            " [1 1 1]\n",
            " [3 2 1]]\n",
            "5\n"
          ]
        }
      ],
      "source": [
        "A = np.array([[1,4,2],[1,1,1],[3,2,1]])\n",
        "D = np.linalg.det(A)\n",
        "print(A)\n",
        "print(round(D))"
      ]
    },
    {
      "cell_type": "markdown",
      "metadata": {
        "id": "bVOjAd3Eh3gJ"
      },
      "source": [
        "Menukar baris pada matriks dapat mengubah tanda determinan"
      ]
    },
    {
      "cell_type": "code",
      "execution_count": 6,
      "metadata": {
        "colab": {
          "base_uri": "https://localhost:8080/"
        },
        "id": "TeGdAnhPhT-5",
        "outputId": "37cf8f41-b244-4984-efcd-c6f04f591cda"
      },
      "outputs": [
        {
          "name": "stdout",
          "output_type": "stream",
          "text": [
            "[[1 1 1]\n",
            " [1 4 2]\n",
            " [3 2 1]]\n",
            "-5\n"
          ]
        }
      ],
      "source": [
        "A1 = np.array([[1,1,1],[1,4,2],[3,2,1]])\n",
        "D1 = np.linalg.det(A1)\n",
        "print(A1)\n",
        "print(round(D1))"
      ]
    },
    {
      "cell_type": "markdown",
      "metadata": {
        "id": "FdrY6Gt9iSB7"
      },
      "source": [
        "Mengubah kolom matriks dapat mengubah tanda determinan"
      ]
    },
    {
      "cell_type": "code",
      "execution_count": 7,
      "metadata": {
        "colab": {
          "base_uri": "https://localhost:8080/"
        },
        "id": "oxYO6om8h8ai",
        "outputId": "a70f1201-e6ad-4d72-8f7e-757d9344ba1b"
      },
      "outputs": [
        {
          "name": "stdout",
          "output_type": "stream",
          "text": [
            "[[4 1 2]\n",
            " [1 1 1]\n",
            " [2 3 1]]\n",
            "-5\n"
          ]
        }
      ],
      "source": [
        "A2 = np.array([[4,1,2],[1,1,1],[2,3,1]])\n",
        "D2 = np.linalg.det(A2)\n",
        "print(A2)\n",
        "print(round(D2))"
      ]
    },
    {
      "cell_type": "markdown",
      "metadata": {
        "id": "eE5suOq6jHu5"
      },
      "source": [
        "3. Apabila bilangan bilangan suatu baris yang mana kelipatan dari baris yang lain maka determinannya sama dengan nol"
      ]
    },
    {
      "cell_type": "code",
      "execution_count": 8,
      "metadata": {
        "colab": {
          "base_uri": "https://localhost:8080/"
        },
        "id": "M52cZX7eitpi",
        "outputId": "dfdaeb11-a40f-4f50-a81e-4f2d9f24f34f"
      },
      "outputs": [
        {
          "name": "stdout",
          "output_type": "stream",
          "text": [
            "[[1 4 2]\n",
            " [2 8 4]\n",
            " [3 2 1]]\n",
            "0.0\n"
          ]
        }
      ],
      "source": [
        "B = np.array ([[1,4,2],[2,8,4],[3,2,1]])\n",
        "D3 = np.linalg.det(B)\n",
        "print(B)\n",
        "print(D3)"
      ]
    },
    {
      "cell_type": "markdown",
      "metadata": {
        "id": "D0IlFdynj47k"
      },
      "source": [
        "4. Apabila bilangan-bilangan suatu kolom pada matriks merupakan kelipatan dari kolom yang lain maka determinannya sama dengan nol  "
      ]
    },
    {
      "cell_type": "code",
      "execution_count": 9,
      "metadata": {
        "colab": {
          "base_uri": "https://localhost:8080/"
        },
        "id": "Tv5nwdTQjUVs",
        "outputId": "f862c639-6cc2-4ef3-8c70-edbc401154bf"
      },
      "outputs": [
        {
          "name": "stdout",
          "output_type": "stream",
          "text": [
            "[[1 4 2]\n",
            " [2 8 3]\n",
            " [1 4 1]]\n",
            "0.0\n"
          ]
        }
      ],
      "source": [
        "C = np.array([[1,4,2],[2,8,3],[1,4,1]])\n",
        "D4 = np.linalg.det(C)\n",
        "print(C)\n",
        "print(D4)"
      ]
    },
    {
      "cell_type": "markdown",
      "metadata": {
        "id": "xWwCuod9lTfK"
      },
      "source": [
        "5. Apabila ada sebuah skalar misal $K$ dikali dengan matriks A\n",
        "maka $det(KA) = K^n det(A)$ yang mana $n$ adalah ukuran dari matriks\\\n",
        "$A = \\begin {bmatrix}\n",
        "1 & 4 & 2 \\\\\n",
        "1 & 1 & 1 \\\\\n",
        "3 & 2 & 1\n",
        "\\end {bmatrix}$ \\\n",
        "$K = 2$ \\\n",
        "$KA = 2 \\begin{bmatrix}\n",
        "1 & 4 & 2 \\\\\n",
        "1 & 1 & 1 \\\\\n",
        "3 & 2 & 1\n",
        "\\end{bmatrix} $"
      ]
    },
    {
      "cell_type": "code",
      "execution_count": 10,
      "metadata": {
        "colab": {
          "base_uri": "https://localhost:8080/"
        },
        "id": "OTfvRHLnmXEA",
        "outputId": "a2f8319e-1029-4170-bb7d-cee372e894a1"
      },
      "outputs": [
        {
          "name": "stdout",
          "output_type": "stream",
          "text": [
            "40\n"
          ]
        }
      ],
      "source": [
        "A = np.array ([[1,4,2],[1,1,1],[3,2,1]])\n",
        "K = 2\n",
        "n = 3\n",
        "KA = K**n * np.linalg.det(A)\n",
        "print(round(KA))"
      ]
    },
    {
      "cell_type": "markdown",
      "metadata": {
        "id": "xxOYo3BfpQen"
      },
      "source": [
        "6. Apabila suatu baris matriks $B$ adalah kelipatan dari suatu baris matriks $A$ maka determinan matriks $B$ adalah kelipatan dari determinan matriks $A$"
      ]
    },
    {
      "cell_type": "code",
      "execution_count": 14,
      "metadata": {
        "id": "JAUmXBxsqC_p"
      },
      "outputs": [
        {
          "name": "stdout",
          "output_type": "stream",
          "text": [
            "5\n",
            "10\n"
          ]
        }
      ],
      "source": [
        "A = np.array([[1,4,2],[1,1,1],[3,2,1]])\n",
        "B = np.array([[2,8,4],[1,1,1],[3,2,1]])\n",
        "dA = np.linalg.det(A)\n",
        "dB = np.linalg.det(B)\n",
        "print(round(dA))\n",
        "print(round(dB))"
      ]
    },
    {
      "cell_type": "markdown",
      "metadata": {
        "id": "BT-XEJigqBi1"
      },
      "source": [
        "7. Apabila terdapat suatu matriks segitiga atas maka determinannya adalah hasil dari perkalian elemen elemen diagonal utamanya\n",
        "Contoh matriks $A = \\begin {bmatrix}\n",
        "1 & 4 & 2 \\\\\n",
        "0 & 4 & 1 \\\\\n",
        "0 & 0 & 1\n",
        "\\end {bmatrix}$"
      ]
    },
    {
      "cell_type": "code",
      "execution_count": 15,
      "metadata": {
        "id": "hjLdabxmrG7L"
      },
      "outputs": [
        {
          "name": "stdout",
          "output_type": "stream",
          "text": [
            "4\n",
            "4\n"
          ]
        }
      ],
      "source": [
        "A = np.array([[1,4,2],[0,4,1],[0,0,1]])\n",
        "dA = 1 * 4 * 1\n",
        "dtA = np.linalg.det(A)\n",
        "print(dA)\n",
        "print(round(dtA))"
      ]
    },
    {
      "cell_type": "markdown",
      "metadata": {
        "id": "744Fs82ErxEY"
      },
      "source": [
        "8. Apabila suatu matriks dikenai suatu Operasi Baris Elementer maka tidak mengubah hasil determinan matriks tersebut"
      ]
    },
    {
      "cell_type": "code",
      "execution_count": 11,
      "metadata": {
        "colab": {
          "base_uri": "https://localhost:8080/"
        },
        "id": "dSr8EUnBrHiI",
        "outputId": "e08cba36-09e4-49ed-ee64-c664478e5f4f"
      },
      "outputs": [
        {
          "name": "stdout",
          "output_type": "stream",
          "text": [
            "5\n",
            "5\n"
          ]
        }
      ],
      "source": [
        "A = np.array([[1,4,2],[1,1,1],[3,2,1]])\n",
        "B = RowAdd(A,0,1,-1)\n",
        "DA = np.linalg.det(A)\n",
        "DB = np.linalg.det(B)\n",
        "print(round(DA))\n",
        "print(round(DB))"
      ]
    },
    {
      "cell_type": "markdown",
      "metadata": {
        "id": "PzVZsY1Xs_3T"
      },
      "source": [
        "9. Apabila suatu matriks ditransposekan maka determinan dari tranpose matriks tersebut adalah determinan dari matriks itu sendiri"
      ]
    },
    {
      "cell_type": "code",
      "execution_count": 12,
      "metadata": {
        "colab": {
          "base_uri": "https://localhost:8080/"
        },
        "id": "ZGvLGXTHsX5V",
        "outputId": "01f3243f-16e7-42c7-a512-68b9a63d7f1d"
      },
      "outputs": [
        {
          "name": "stdout",
          "output_type": "stream",
          "text": [
            "[[1 4 2]\n",
            " [1 1 1]\n",
            " [3 2 1]]\n",
            "[[1 1 3]\n",
            " [4 1 2]\n",
            " [2 1 1]]\n",
            "5\n"
          ]
        }
      ],
      "source": [
        "AT = np.transpose(A)\n",
        "DAT = np.linalg.det(AT)\n",
        "print(A)\n",
        "print(AT)\n",
        "print(round(DAT))"
      ]
    }
  ],
  "metadata": {
    "colab": {
      "provenance": [],
      "toc_visible": true
    },
    "kernelspec": {
      "display_name": "Python 3",
      "name": "python3"
    },
    "language_info": {
      "codemirror_mode": {
        "name": "ipython",
        "version": 3
      },
      "file_extension": ".py",
      "mimetype": "text/x-python",
      "name": "python",
      "nbconvert_exporter": "python",
      "pygments_lexer": "ipython3",
      "version": "3.10.13"
    }
  },
  "nbformat": 4,
  "nbformat_minor": 0
}
