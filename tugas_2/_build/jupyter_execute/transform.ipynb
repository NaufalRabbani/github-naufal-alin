{
 "cells": [
  {
   "cell_type": "markdown",
   "metadata": {},
   "source": [
    "# Transformasi Linier"
   ]
  },
  {
   "cell_type": "markdown",
   "metadata": {},
   "source": [
    "Transformasi linier adalah perpindahan dari satu ruang yang biasa dinamakan dengan domain ke ruang lain yang dinamakan kodomain Misalkan V dan W adalah ruang vektor. Transformasi yang memetakan ruang vektor V ke ruang vektor W ditulis sebagai"
   ]
  },
  {
   "cell_type": "markdown",
   "metadata": {},
   "source": [
    "$T = V \\rightarrow W$"
   ]
  },
  {
   "cell_type": "markdown",
   "metadata": {},
   "source": [
    "Sifat Transformasi linier yang pertama disimbolkan dengan $T(u+v) = T(u) + T(v)$ dimana $T$ adalah operator linear, $u$ dan $v$ adalah vektor. "
   ]
  },
  {
   "cell_type": "markdown",
   "metadata": {},
   "source": [
    "Sifat yang kedua disimbolkan dengan $T(\\alpha v) = \\alpha T(v)$ dimana $T$ adalah operator linear, $v$ adalah vektor, dan $\\alpha$ sebagai skalar. "
   ]
  },
  {
   "cell_type": "markdown",
   "metadata": {},
   "source": [
    "Contoh terdapat vektor $u = \\begin {bmatrix} 1 & 2 \\end {bmatrix}$ dan $v = \\begin {bmatrix} 2 & 3 \\end {bmatrix}$. $T = R^2 \\rightarrow R^2$"
   ]
  },
  {
   "cell_type": "markdown",
   "metadata": {},
   "source": [
    "$T(u + v) = T(u) + T(v)$  \\\n",
    "$T(u + v) = T(\\begin {bmatrix} 1 & 2 \\end {bmatrix}) + T(\\begin {bmatrix} 2 & 3 \\end {bmatrix})$ \\\n",
    "$T (u + v)) = (\\begin {bmatrix} 1+2 & 2+3 \\end {bmatrix}) $  \\\n",
    "$T(u + v) = (\\begin {bmatrix} 2(1+2) & 3(2+3) \\end {bmatrix})$ \\\n",
    "$T(u + v) = \\begin {bmatrix} 6 & 15 \\end {bmatrix}$"
   ]
  },
  {
   "cell_type": "markdown",
   "metadata": {},
   "source": [
    "Misalkan $T$ adalah transformasi linier $T : R^2 \\rightarrow R^2$ dan"
   ]
  },
  {
   "cell_type": "markdown",
   "metadata": {},
   "source": [
    "$T \\begin {bmatrix} 2 \\\\ 0 \\end {bmatrix}$ = $\\begin {bmatrix} -2 \\\\ 0 \\end {bmatrix}$ , $T \\begin {bmatrix} 2 \\\\ 2 \\end {bmatrix} = \\begin {bmatrix} -2 \\\\ 2 \\end {bmatrix}$"
   ]
  },
  {
   "cell_type": "markdown",
   "metadata": {},
   "source": [
    "Carilah matrik $A$ dari $T$"
   ]
  },
  {
   "cell_type": "markdown",
   "metadata": {},
   "source": [
    "Karena vektor diatas adalah 2 dimensi maka kita akan mengoperasikannya dengan vektor basis 2 dimensi sebagai"
   ]
  },
  {
   "cell_type": "markdown",
   "metadata": {},
   "source": [
    " $T \\begin {bmatrix} 1 \\\\ 0 \\end {bmatrix} = xT \\begin {bmatrix} 2 \\\\ 0 \\end {bmatrix} + yT \\begin {bmatrix} 2 \\\\ 2 \\end {bmatrix}$"
   ]
  },
  {
   "cell_type": "markdown",
   "metadata": {},
   "source": [
    "$ 1 = 2x + 2y, \\\\\n",
    "0 =   0x + 2y, \\\\\n",
    "y = 0$"
   ]
  },
  {
   "cell_type": "markdown",
   "metadata": {},
   "source": [
    "$ 1 = 2x, \\\\\n",
    "x = \\frac{1}{2} $"
   ]
  },
  {
   "cell_type": "markdown",
   "metadata": {},
   "source": [
    "$T \\begin{bmatrix} 1 \\\\ 0 \\end{bmatrix} = x\\begin{bmatrix} -2 \\\\ 0 \\end{bmatrix} + y\\begin{bmatrix} -2 \\\\ 2 \\end{bmatrix} $"
   ]
  },
  {
   "cell_type": "markdown",
   "metadata": {},
   "source": [
    "$T \\begin{bmatrix} 1 \\\\ 0 \\end{bmatrix} = \\frac{1}{2} \\begin{bmatrix} -2 \\\\ 0 \\end{bmatrix} + 0 \\begin{bmatrix} -2 \\\\ 2 \\end{bmatrix} = \\begin{bmatrix} -1 \\\\ 0 \\end{bmatrix} $"
   ]
  },
  {
   "cell_type": "markdown",
   "metadata": {},
   "source": [
    "$e_1 = \\begin{bmatrix} -1 \\\\ 0 \\end{bmatrix}$"
   ]
  },
  {
   "cell_type": "markdown",
   "metadata": {},
   "source": [
    "$T \\begin{bmatrix} 0 \\\\ 1 \\end{bmatrix} = x\\begin{bmatrix} 2 \\\\ 0 \\end{bmatrix} + \\begin{bmatrix} 2 \\\\ 2 \\end{bmatrix} $"
   ]
  },
  {
   "cell_type": "markdown",
   "metadata": {},
   "source": [
    "$ 0 = 2x + 2y, \\\\\n",
    "1 = 0x + 2y, \\\\\n",
    "y = \\frac{1}{2}$"
   ]
  },
  {
   "cell_type": "markdown",
   "metadata": {},
   "source": [
    "$0 = 2x + 2y, \\\\\n",
    "0 = 2x + 1, \\\\\n",
    "2x = -1, \\\\\n",
    "x = -\\frac{1}{2}$"
   ]
  },
  {
   "cell_type": "markdown",
   "metadata": {},
   "source": [
    "$T \\begin{bmatrix} 0 \\\\ 1 \\end{bmatrix} = x\\begin{bmatrix} -2 \\\\ 0 \\end{bmatrix} + y\\begin{bmatrix} -2 \\\\ 2 \\end{bmatrix}$"
   ]
  },
  {
   "cell_type": "markdown",
   "metadata": {},
   "source": [
    "$T \\begin{bmatrix} 0 \\\\ 1 \\end{bmatrix} = -\\frac{1}{2} \\begin{bmatrix} -2 \\\\ 0 \\end{bmatrix} + \\frac{1}{2} \\begin{bmatrix} -2 \\\\ 2 \\end{bmatrix}$"
   ]
  },
  {
   "cell_type": "markdown",
   "metadata": {},
   "source": [
    "$ $"
   ]
  },
  {
   "cell_type": "markdown",
   "metadata": {},
   "source": [
    "$T \\begin{bmatrix} 0 \\\\ 1 \\end{bmatrix} = \\begin{bmatrix} 1 \\\\ 0 \\end{bmatrix} + \\begin{bmatrix} -1 \\\\ 1 \\end{bmatrix} = \\begin{bmatrix} 0 \\\\ 1 \\end{bmatrix}$"
   ]
  },
  {
   "cell_type": "markdown",
   "metadata": {},
   "source": [
    "$e_2 = \\begin{bmatrix} -2 \\\\ 1 \\end{bmatrix}$"
   ]
  },
  {
   "cell_type": "markdown",
   "metadata": {},
   "source": [
    "$A = \\begin{bmatrix} e_1 & e_2 \\end{bmatrix}$"
   ]
  },
  {
   "cell_type": "markdown",
   "metadata": {},
   "source": [
    "$A = \\begin{bmatrix} -1 & 0 \\\\ 0 & 1 \\end{bmatrix} $ "
   ]
  },
  {
   "cell_type": "markdown",
   "metadata": {},
   "source": [
    "## Refleksi \n",
    "Refleksi atau pencerminan adalah perpindahan titik suatu objek pada bidang sesuai dengan sifat pembentukan bayangan pada cermin datar. Pada prinsipnya, refleksi hampir sama dengan translasi, yaitu pergeseran. Hanya saja, pada refleksi memiliki sifat-sifat tertentu sedemikian sehingga posisi akhir objeknya merupakan hasil pencerminan objek awalnya. Contoh refleksi adalah sebagai berikut "
   ]
  },
  {
   "cell_type": "markdown",
   "metadata": {},
   "source": [
    "Refleksi terhadap sumbu-$x$"
   ]
  },
  {
   "cell_type": "markdown",
   "metadata": {},
   "source": [
    "$A = (1,2) \\\\\n",
    "M = \\begin{pmatrix} 1 & 0 \\\\ 0 & -1 \\end{pmatrix} $"
   ]
  },
  {
   "cell_type": "markdown",
   "metadata": {},
   "source": [
    "$A(x,y) \\rightarrow A'(x,-y)$"
   ]
  },
  {
   "cell_type": "markdown",
   "metadata": {},
   "source": [
    "$\\begin{pmatrix} x' \\\\ y' \\end{pmatrix} = M \\begin{pmatrix} x \\\\ y \\end{pmatrix}, \\\\\n",
    "\\begin{pmatrix} x' \\\\ y' \\end{pmatrix} = \\begin{pmatrix} 1 & 0 \\\\ 0 & -1 \\end{pmatrix} \\begin{pmatrix} 1 \\\\ 2 \\end{pmatrix} = \\begin{pmatrix} 1 \\\\ -2 \\end{pmatrix}$"
   ]
  },
  {
   "cell_type": "markdown",
   "metadata": {},
   "source": [
    "$A' = \\begin{pmatrix} 1 \\\\ -2 \\end{pmatrix} $"
   ]
  }
 ],
 "metadata": {
  "language_info": {
   "codemirror_mode": {
    "name": "ipython",
    "version": 3
   },
   "file_extension": ".py",
   "mimetype": "text/x-python",
   "name": "python",
   "nbconvert_exporter": "python",
   "pygments_lexer": "ipython3",
   "version": "3.10.13"
  }
 },
 "nbformat": 4,
 "nbformat_minor": 2
}