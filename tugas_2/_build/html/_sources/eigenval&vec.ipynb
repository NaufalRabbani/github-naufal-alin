{
 "cells": [
  {
   "cell_type": "markdown",
   "metadata": {},
   "source": [
    "# Eigen Value & Eigen Vector"
   ]
  },
  {
   "cell_type": "markdown",
   "metadata": {},
   "source": [
    "## Konsep Eigen Value dan Eigen Vektor\n",
    "Apabila ada sebuah matriks A maka vektor tak nol yang tak nol yang dilambangkan vektor $x$ dinamakan eigen vector (vektor eigen) dari A, dan jika $Ax$ merupakan kelipatan skalar dari $x$ yakni $Ax = \\lambda x$ maka skalar $\\lambda$ merupakan eigen value (nilai eigen) dari A dan x dikatakan eigen vektor yang bersesuaian dengan skalar $\\lambda$"
   ]
  },
  {
   "cell_type": "markdown",
   "metadata": {},
   "source": [
    "## Contoh menghitung Eigen Value dan Eigen Vektor menggunakan fungsi Numpy pada python\n",
    "Misal terdapat matriks $A_{2 \\times 2}$ sebagai berikut"
   ]
  },
  {
   "cell_type": "markdown",
   "metadata": {},
   "source": [
    "$ A =\n",
    "\\begin {bmatrix}\n",
    "1 & 4 \\\\\n",
    "3 & 2 \n",
    "\\end {bmatrix}$"
   ]
  },
  {
   "cell_type": "markdown",
   "metadata": {},
   "source": [
    "Cara menghitung eigen value dan eigen vector dari matriks $A$ diatas apabila menggunakan Numpy adalah sebagai berikut"
   ]
  },
  {
   "cell_type": "code",
   "execution_count": 2,
   "metadata": {},
   "outputs": [
    {
     "name": "stdout",
     "output_type": "stream",
     "text": [
      "[-2.  5.]\n",
      "[[-1. -1.]\n",
      " [ 1. -1.]]\n"
     ]
    }
   ],
   "source": [
    "import numpy as np\n",
    "A = np.array([[1,4],[3,2]])\n",
    "egval, egvec = np.linalg.eig(A)\n",
    "print(np.round(egval))\n",
    "print(np.round(egvec))"
   ]
  },
  {
   "cell_type": "markdown",
   "metadata": {},
   "source": [
    "Bisa didapatkan eigen value dari matriks $A$ adalah $\\begin {bmatrix} -2 & 5 \\end {bmatrix}$ dan eigen vectornya adalah $\\begin {bmatrix} -1 & -1 \\\\ 1 & -1 \\end {bmatrix}$ "
   ]
  },
  {
   "cell_type": "markdown",
   "metadata": {},
   "source": [
    "Apabila menggunakan sampel matriks $3 \\times 3$ adalah sebagai berikut"
   ]
  },
  {
   "cell_type": "markdown",
   "metadata": {},
   "source": [
    "$A =\n",
    "\\begin {bmatrix}\n",
    "1 & 4 & 2 \\\\\n",
    "2 & 1 & 1 \\\\\n",
    "3 & 2 & 1\n",
    "\\end {bmatrix}$"
   ]
  },
  {
   "cell_type": "code",
   "execution_count": 3,
   "metadata": {},
   "outputs": [
    {
     "name": "stdout",
     "output_type": "stream",
     "text": [
      "Nilai eigen value =  [ 5.5 -2.1 -0.4]\n",
      "Nilai eigen vector =  [[ 0.7  0.8 -0.2]\n",
      " [ 0.4 -0.3 -0.4]\n",
      " [ 0.6 -0.5  0.9]]\n"
     ]
    }
   ],
   "source": [
    "A = np.array ([[1,4,2],[2,1,1],[3,2,1]])\n",
    "egval, egvec = np.linalg.eig(A)\n",
    "print(\"Nilai eigen value = \", np.round(egval, decimals = 1))\n",
    "print(\"Nilai eigen vector = \", np.round(egvec, decimals = 1))"
   ]
  },
  {
   "cell_type": "markdown",
   "metadata": {},
   "source": [
    "Maka bisa didapat eigen valuenya adalah $\\begin {bmatrix} 5.5 & -2.1 & -0.4 \\end {bmatrix}$ dan eigen vectornya adalah $\\begin {bmatrix} 0.7 & 0.8 & -0.2 \\\\ 0.4 & -0.3 & -0.4 \\\\ 0.6 & -0.5 & 0.9 \\end {bmatrix}$"
   ]
  },
  {
   "cell_type": "markdown",
   "metadata": {},
   "source": [
    "## Implementasi Eigen Value dan Eigen Vector"
   ]
  },
  {
   "cell_type": "code",
   "execution_count": 4,
   "metadata": {},
   "outputs": [],
   "source": [
    "import numpy as np\n",
    "\n",
    "\n",
    "def pcaEVD(X):\n",
    "    # Center X and get covariance matrix C\n",
    "    n, p = X.shape\n",
    "    X -= X.mean(axis=0)\n",
    "    C = (X.T@X) / (n-1)\n",
    "\n",
    "    # EVD\n",
    "    e_vals, e_vecs = np.linalg.eig(C)\n",
    "    idx = e_vals.argsort()[::-1]   \n",
    "    e_vals = e_vals[idx]\n",
    "    e_vecs = e_vecs[:, idx]\n",
    "\n",
    "    # Return principal compnents and eigenvalues to calculate the portion of sample variance explained\n",
    "    return (X @ e_vecs), e_vals\n",
    "\n",
    "def pcaSVD(X):\n",
    "    # Center X and get covariance matrix C\n",
    "    n, p = X.shape\n",
    "    X -= X.mean(axis=0)\n",
    "\n",
    "    # SVD\n",
    "    u, sigma, vt = np.linalg.svd(X, full_matrices=False)\n",
    "\n",
    "    # Return principal compnents and eigenvalues to calculate the portion of sample variance explained\n",
    "    return (X @ vt.T), (sigma**2) / (n-1)\n",
    "\n"
   ]
  },
  {
   "cell_type": "markdown",
   "metadata": {},
   "source": [
    "Pada fungsi pcaEVD, mean dari setiap kolom matriks $X$ dikurangi sehingga data menjadi terpusat (mean dari setiap kolom adalah nol). Kemudian matriks kovarians $C$ dihitung dengan mengalikan matriks transpose $X$ dengan $X$, lalu dibagi dengan n-1. Setelah itu, dilakukan dekomposisi matriks kovarian $C$ yang menghasilkan nilai eigen (e_vals) dan vektor eigen (e_vecs). Nilai eigen diurutkan secara menurun, dan vektor eigen diurutkan sesuai dengan urutan nilai eigen. Setelah itu, Komponen utama diperoleh dengan mengalikan $X$ dengan vektor eigen yang diurutkan. Fungsi ini mengembalikan komponen utama dan nilai eigen yang menjelaskan proporsi variansi sampel.\n",
    "\n"
   ]
  },
  {
   "cell_type": "markdown",
   "metadata": {},
   "source": [
    "Pada fungsi pcaSVD, Sama seperti pada pcaEVD, data dipusatkan dengan mengurangi mean dari setiap kolom dalam X. Kemudian, dilakukan dekomposisi nilai singular pada X, menghasilkan matriks u, sigma, dan vt. Matriks u adalah matriks ortogonal, sigma adalah vektor nilai singular, dan vt adalah transpose dari matriks vektor singular kanan. Komponen utama diperoleh dengan mengalikan X dengan transpose dari vt. Nilai eigen dihitung sebagai kuadrat dari nilai singular (sigma) dibagi dengan n-1 Fungsi ini mengembalikan komponen utama dan nilai eigen yang menjelaskan proporsi variansi sampel.\n",
    "\n"
   ]
  },
  {
   "cell_type": "code",
   "execution_count": null,
   "metadata": {},
   "outputs": [],
   "source": [
    "import matplotlib.pyplot as plt\n",
    "from matplotlib.font_manager import FontProperties\n",
    "\n",
    "\n",
    "TITLE_FONT = FontProperties(family=\"Arial\", size=16, weight=\"semibold\")\n",
    "AXIS_FONT = FontProperties(family=\"Arial\", size=14)\n",
    "LASALLE_BLUE = \"#00245D\"\n",
    "\n",
    "# Get feature names\n",
    "feature_names = [\" \".join(name.split(\" \")[:-1])\n",
    "                 for name in iris['feature_names']]\n",
    "p = vt.shape[0]\n",
    "pc_labels = [\"PC %s\" % (i+1) for i in range(p)]\n",
    "\n",
    "# Calculate proportion of variance explained\n",
    "eig_val = sigma**2 / (X_.shape[0]-1)\n",
    "ve = eig_val / eig_val.sum()\n",
    "\n",
    "plt.figure(figsize=(20, 10), dpi=200)\n",
    "\n",
    "# Plot proportion of total variance explained\n",
    "plt.subplot(1, 2, 1)\n",
    "plt.plot(range(p), ve, 'o-', c=LASALLE_BLUE)\n",
    "plt.title(\"Proportion of Total Variance Explained (Centered)\", fontproperties=TITLE_FONT)\n",
    "plt.xticks(range(p), pc_labels, fontproperties=AXIS_FONT)\n",
    "plt.ylim(0, 1)\n",
    "\n",
    "# Plot factor loadings\n",
    "plt.subplot(1, 2, 2)\n",
    "plt.matshow(vt*np.sqrt(eig_val), cmap=\"coolwarm\", fignum=False)\n",
    "plt.title(\"Factor Loadings (Centered)\", fontproperties=TITLE_FONT)\n",
    "plt.yticks(range(p), pc_labels, fontproperties=AXIS_FONT)\n",
    "plt.xticks(range(p), feature_names, fontproperties=AXIS_FONT)\n",
    "plt.tick_params(axis='both', length=0.5, direction='out')\n",
    "for (i, j), z in np.ndenumerate(vt*np.sqrt(eig_val)):\n",
    "    plt.text(j, i, '{:0.2f}'.format(z), ha='center', va='center',\n",
    "             fontproperties=AXIS_FONT)"
   ]
  }
 ],
 "metadata": {
  "kernelspec": {
   "display_name": "Python 3",
   "language": "python",
   "name": "python3"
  },
  "language_info": {
   "codemirror_mode": {
    "name": "ipython",
    "version": 3
   },
   "file_extension": ".py",
   "mimetype": "text/x-python",
   "name": "python",
   "nbconvert_exporter": "python",
   "pygments_lexer": "ipython3",
   "version": "3.10.13"
  }
 },
 "nbformat": 4,
 "nbformat_minor": 2
}
