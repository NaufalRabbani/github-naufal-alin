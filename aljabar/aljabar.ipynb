{
 "cells": [
  {
   "cell_type": "code",
   "execution_count": 23,
   "metadata": {},
   "outputs": [
    {
     "name": "stdout",
     "output_type": "stream",
     "text": [
      "[[2 8 7]\n",
      " [6 5 2]]\n"
     ]
    }
   ],
   "source": [
    "import numpy as np\n",
    "A = np.array ([[1, 3, 4], [2, 1, 5]])\n",
    "B = np.array ([[3, 0, 4], [-1, -2, -1]])\n",
    "C = np.array ([[2, 8, 7], [6, 5, 2]])\n",
    "D = np.array ([[12, 4]])\n",
    "print(C)"
   ]
  },
  {
   "cell_type": "code",
   "execution_count": null,
   "metadata": {},
   "outputs": [],
   "source": [
    "A @ C = I\n"
   ]
  },
  {
   "cell_type": "code",
   "execution_count": null,
   "metadata": {},
   "outputs": [
    {
     "name": "stdout",
     "output_type": "stream",
     "text": [
      "[[7 1 6]\n",
      " [5 6 3]\n",
      " [4 7 0]]\n"
     ]
    }
   ],
   "source": [
    "A = np.random.randint(10, size=(3,3))\n",
    "print(A)"
   ]
  },
  {
   "cell_type": "markdown",
   "metadata": {},
   "source": [
    "# Operasi Bilangan Matriks\n",
    "c = 2\\\n",
    "d = 4\\\n",
    "(c+d)A = cA + dA\\\n",
    "c(dA) = (cd)A\n"
   ]
  },
  {
   "cell_type": "code",
   "execution_count": null,
   "metadata": {},
   "outputs": [
    {
     "name": "stdout",
     "output_type": "stream",
     "text": [
      "[[42  6 36]\n",
      " [30 36 18]\n",
      " [24 42  0]]\n"
     ]
    }
   ],
   "source": [
    "c = 4\n",
    "d = 2\n",
    "hasil = (c + d) * A\n",
    "print(hasil)"
   ]
  },
  {
   "cell_type": "code",
   "execution_count": null,
   "metadata": {},
   "outputs": [
    {
     "name": "stdout",
     "output_type": "stream",
     "text": [
      "8\n",
      "[[56  8 48]\n",
      " [40 48 24]\n",
      " [32 56  0]]\n",
      "[[28  4 24]\n",
      " [20 24 12]\n",
      " [16 28  0]]\n",
      "[[14  2 12]\n",
      " [10 12  6]\n",
      " [ 8 14  0]]\n",
      "[[42  6 36]\n",
      " [30 36 18]\n",
      " [24 42  0]]\n"
     ]
    }
   ],
   "source": [
    "e = c * d \n",
    "f = e * A\n",
    "g = c * A\n",
    "h = d * A\n",
    "j = c * A + d * A\n",
    "print(e)\n",
    "print(f)\n",
    "print(g)\n",
    "print(h)\n",
    "print(j)"
   ]
  },
  {
   "cell_type": "code",
   "execution_count": null,
   "metadata": {},
   "outputs": [
    {
     "name": "stdout",
     "output_type": "stream",
     "text": [
      "[[42  6 36]\n",
      " [30 36 18]\n",
      " [24 42  0]]\n",
      "[[42  6 36]\n",
      " [30 36 18]\n",
      " [24 42  0]]\n"
     ]
    }
   ],
   "source": [
    "G = (c + d) * A\n",
    "H = (c * A) + (d * A)\n",
    "print (G)\n",
    "print (H)"
   ]
  },
  {
   "cell_type": "code",
   "execution_count": null,
   "metadata": {},
   "outputs": [
    {
     "name": "stdout",
     "output_type": "stream",
     "text": [
      "[[42  6 36]\n",
      " [30 36 18]\n",
      " [24 42  0]]\n",
      "[[42  6 36]\n",
      " [30 36 18]\n",
      " [24 42  0]]\n"
     ]
    }
   ],
   "source": [
    "G = (c + d) * A\n",
    "H = (c * A) + (d * A)\n",
    "print(G)\n",
    "print(H)"
   ]
  },
  {
   "cell_type": "code",
   "execution_count": null,
   "metadata": {},
   "outputs": [
    {
     "data": {
      "text/plain": [
       "2"
      ]
     },
     "execution_count": 19,
     "metadata": {},
     "output_type": "execute_result"
    }
   ],
   "source": [
    "C.shape[0]"
   ]
  },
  {
   "cell_type": "code",
   "execution_count": null,
   "metadata": {},
   "outputs": [
    {
     "data": {
      "text/plain": [
       "3"
      ]
     },
     "execution_count": 20,
     "metadata": {},
     "output_type": "execute_result"
    }
   ],
   "source": [
    "C.shape[1]"
   ]
  },
  {
   "cell_type": "code",
   "execution_count": 26,
   "metadata": {},
   "outputs": [
    {
     "data": {
      "text/plain": [
       "array([[1, 2],\n",
       "       [3, 1],\n",
       "       [4, 5]])"
      ]
     },
     "execution_count": 26,
     "metadata": {},
     "output_type": "execute_result"
    }
   ],
   "source": [
    "np.transpose (A)"
   ]
  },
  {
   "cell_type": "markdown",
   "metadata": {},
   "source": [
    "# Mengalikan Matriks dengan Program"
   ]
  },
  {
   "cell_type": "markdown",
   "metadata": {},
   "source": [
    "# Program Perkalian Matriks"
   ]
  },
  {
   "cell_type": "markdown",
   "metadata": {},
   "source": [
    "# Matriks Transpose"
   ]
  },
  {
   "cell_type": "code",
   "execution_count": 27,
   "metadata": {},
   "outputs": [
    {
     "name": "stdout",
     "output_type": "stream",
     "text": [
      "[[5 4 0]\n",
      " [1 8 3]\n",
      " [6 7 2]]\n",
      "\n",
      "\n",
      "[[5 1 6]\n",
      " [4 8 7]\n",
      " [0 3 2]]\n"
     ]
    }
   ],
   "source": [
    "A = np.array([[5, 4, 0],[1,8,3],[6,7,2]])\n",
    "A_T = A.transpose()\n",
    "print(A)\n",
    "print('\\n')\n",
    "print(A_T)"
   ]
  },
  {
   "cell_type": "code",
   "execution_count": 28,
   "metadata": {},
   "outputs": [
    {
     "name": "stdout",
     "output_type": "stream",
     "text": [
      "[[ 625   16    0]\n",
      " [  16 4096  441]\n",
      " [   0  441   16]]\n",
      "(3, 3)\n"
     ]
    }
   ],
   "source": [
    "C = A * A_T\n",
    "C_T = C.transpose()\n",
    "COV = C * C_T\n",
    "print(COV)\n",
    "print(COV.shape)"
   ]
  },
  {
   "cell_type": "code",
   "execution_count": 29,
   "metadata": {},
   "outputs": [
    {
     "name": "stdout",
     "output_type": "stream",
     "text": [
      "[[2 1]\n",
      " [1 2]]\n",
      "[[2 1]\n",
      " [1 2]]\n"
     ]
    }
   ],
   "source": [
    "A = np.array([[2,1],[1,2]])\n",
    "A_T = A.transpose()\n",
    "print(A)\n",
    "print(A_T) "
   ]
  },
  {
   "cell_type": "code",
   "execution_count": 30,
   "metadata": {},
   "outputs": [
    {
     "name": "stdout",
     "output_type": "stream",
     "text": [
      "[[10  3  5]\n",
      " [ 3  7  9]\n",
      " [ 5  9 12]]\n",
      "[[10  3  5]\n",
      " [ 3  7  9]\n",
      " [ 5  9 12]]\n"
     ]
    }
   ],
   "source": [
    "M = np.array ([[10, 3, 5], [3, 7, 9], [5, 9, 12]])\n",
    "M_T = M.transpose()\n",
    "print(M)\n",
    "print(M_T)"
   ]
  }
 ],
 "metadata": {
  "kernelspec": {
   "display_name": "Python 3",
   "language": "python",
   "name": "python3"
  },
  "language_info": {
   "codemirror_mode": {
    "name": "ipython",
    "version": 3
   },
   "file_extension": ".py",
   "mimetype": "text/x-python",
   "name": "python",
   "nbconvert_exporter": "python",
   "pygments_lexer": "ipython3",
   "version": "3.10.13"
  }
 },
 "nbformat": 4,
 "nbformat_minor": 2
}
