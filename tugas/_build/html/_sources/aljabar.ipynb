{
 "cells": [
  {
   "cell_type": "markdown",
   "metadata": {},
   "source": [
    "# Aljabar Matriks"
   ]
  },
  {
   "cell_type": "markdown",
   "metadata": {},
   "source": [
    "Matriks adalah suatu susunan bilangan real atau bilangan kompleks (atau elemen-elemen) yang disusun dalam baris dan kolom sehingga membentuk jajaran persegi panjang. Suatu matriks diberi nama dengan menggunakan huruf kapital seperti A, B, C, dan seterusnya, sedangkan anggotanya dinyatakan dengan huruf kecil."
   ]
  },
  {
   "cell_type": "markdown",
   "metadata": {},
   "source": [
    "Kita bisa membuat matriks di python dengan fungsi np.array yang nilainya bisa diisi sendiri"
   ]
  },
  {
   "cell_type": "code",
   "execution_count": 39,
   "metadata": {},
   "outputs": [
    {
     "name": "stdout",
     "output_type": "stream",
     "text": [
      "[[1 3 4]\n",
      " [2 1 5]]\n",
      "[[ 3  0  4]\n",
      " [-1 -2 -1]]\n",
      "[[2 8 7]\n",
      " [6 5 2]]\n",
      "[[12  4]]\n"
     ]
    }
   ],
   "source": [
    "import numpy as np\n",
    "A = np.array ([[1, 3, 4], [2, 1, 5]])\n",
    "B = np.array ([[3, 0, 4], [-1, -2, -1]])\n",
    "C = np.array ([[2, 8, 7], [6, 5, 2]])\n",
    "D = np.array ([[12, 4]])\n",
    "print(A)\n",
    "print(B)\n",
    "print(C)\n",
    "print(D)"
   ]
  },
  {
   "cell_type": "markdown",
   "metadata": {},
   "source": [
    "Atau kita bisa membuat matriks dengan fungsi random dengan ukuran yang bisa ditentukan sendiri ,contoh matriks ukuran 3x3"
   ]
  },
  {
   "cell_type": "code",
   "execution_count": 40,
   "metadata": {},
   "outputs": [
    {
     "name": "stdout",
     "output_type": "stream",
     "text": [
      "[[5 1 0]\n",
      " [9 7 8]\n",
      " [8 7 4]]\n"
     ]
    }
   ],
   "source": [
    "A = np.random.randint(10, size=(3,3))\n",
    "print(A)"
   ]
  },
  {
   "cell_type": "markdown",
   "metadata": {},
   "source": [
    "## Operasi Bilangan Matriks"
   ]
  },
  {
   "cell_type": "markdown",
   "metadata": {},
   "source": [
    "### Penjumlahan Matriks"
   ]
  },
  {
   "cell_type": "markdown",
   "metadata": {},
   "source": [
    "Penjumlahan Matriks pada dasarnya sama dengan penjumlahan bilangan, namun dengan salah satu syarat yaitu matriks yang dijumlahkan memiliki ordo yang sama. contohnya matriks $A$ dengan ordo 2x2 dijumlahkan dengan matriks $B$ dengan ordo 2x2 atau matriks $C$ dengan ordo 3x3 dijumlahkan dengan matriks $D$ dengan ordo 3x3    "
   ]
  },
  {
   "cell_type": "markdown",
   "metadata": {},
   "source": [
    "Berikut Sifat sifat Penjumlahan Matriks\n",
    "\n",
    "\n",
    "1. Sifat komutatif.\n",
    "Pada sifat ini berlaku A + B = B + A.\n",
    "\n",
    "2. Sifat asosiatif.\n",
    "Pada sifat ini berlaku (A + B) + C = A +(B + C)\n",
    "\n",
    "3. Matriks nol.\n",
    "Pada sifat ini berlaku A + 0 = A.\n",
    "\n",
    "4. Jika dijumlahkan dengan lawannya akan menghasilkan matriks nol, yaitu A + (-A) = 0. \n"
   ]
  },
  {
   "cell_type": "markdown",
   "metadata": {},
   "source": [
    "Contoh penjumlahan matriks"
   ]
  },
  {
   "cell_type": "markdown",
   "metadata": {},
   "source": [
    "$\\begin{bmatrix}\n",
    "1 & 2\\\\\n",
    "3 & 4\n",
    "\\end{bmatrix}$\n",
    "+\n",
    "$\\begin{bmatrix}\n",
    "2 & 4\\\\\n",
    "6 & 8\n",
    "\\end{bmatrix}$\n",
    "::\n",
    "$\\begin{bmatrix}\n",
    "3 & 6\\\\\n",
    "9 & 12\n",
    "\\end{bmatrix}$"
   ]
  },
  {
   "cell_type": "markdown",
   "metadata": {},
   "source": [
    "### Perkalian Matriks"
   ]
  },
  {
   "cell_type": "markdown",
   "metadata": {},
   "source": [
    "Perkalian pada Matriks terbagi menjadi 2, yaitu perkalian matriks dengan konstanta dan perkalian antarmatriks "
   ]
  },
  {
   "cell_type": "markdown",
   "metadata": {},
   "source": [
    "#### 1. Perkalian Matriks dengan Konstanta\n",
    "Adalah suatu operasi yang mengalikan matriks dengan suatu nilai konstanta"
   ]
  },
  {
   "cell_type": "markdown",
   "metadata": {},
   "source": [
    "Contoh perkalian Matriks dengan Konstanta:\n",
    "Matriks M\n",
    "$\\begin{bmatrix}\n",
    "1 & 2\\\\\n",
    "3 & 4\n",
    "\\end{bmatrix}$\n",
    "dikalikan dengan konstanta bernilai 5"
   ]
  },
  {
   "cell_type": "code",
   "execution_count": 41,
   "metadata": {},
   "outputs": [
    {
     "name": "stdout",
     "output_type": "stream",
     "text": [
      "[[1 2]\n",
      " [3 4]]\n",
      "[[ 5 10]\n",
      " [15 20]]\n"
     ]
    }
   ],
   "source": [
    "M = np.array([[1,2], [3,4]])\n",
    "print(M)\n",
    "N = M * 5\n",
    "print(N)"
   ]
  },
  {
   "cell_type": "markdown",
   "metadata": {},
   "source": [
    "Hasilnya adalah Matriks N\n",
    "$\\begin{bmatrix}\n",
    "5 & 10\\\\\n",
    "15 & 20\n",
    "\\end{bmatrix}$"
   ]
  },
  {
   "cell_type": "markdown",
   "metadata": {},
   "source": [
    "#### 2. Perkalian AntarMatriks"
   ]
  },
  {
   "cell_type": "markdown",
   "metadata": {},
   "source": [
    "Adalah Operasi yang mengalikan matriks dengan matriks lainnya salah satu syarat perkalian antarmatriks adalah kolom matriks yang mengalikan sama dengan\n",
    "baris matriks yang dikalikan"
   ]
  },
  {
   "cell_type": "markdown",
   "metadata": {},
   "source": [
    "Contoh perkalian antarmatriks"
   ]
  },
  {
   "cell_type": "code",
   "execution_count": 42,
   "metadata": {},
   "outputs": [
    {
     "name": "stdout",
     "output_type": "stream",
     "text": [
      "[[5 1 7]\n",
      " [0 6 9]]\n",
      "[[7 3]\n",
      " [4 2]\n",
      " [4 0]]\n"
     ]
    }
   ],
   "source": [
    "#menentukan matriks yang akan dikalikan\n",
    "A = np.random.randint(10, size=(2,3))\n",
    "B = np.random.randint(10, size=(3,2))\n",
    "print(A)\n",
    "print(B)"
   ]
  },
  {
   "cell_type": "code",
   "execution_count": 43,
   "metadata": {},
   "outputs": [
    {
     "name": "stdout",
     "output_type": "stream",
     "text": [
      "[[67 17]\n",
      " [60 12]]\n",
      "[[67 17]\n",
      " [60 12]]\n"
     ]
    }
   ],
   "source": [
    "#melakukan operasi perkalian matriks\n",
    "C = np.dot(A,B)\n",
    "print(C)\n",
    "D = A.dot(B)\n",
    "print(D)"
   ]
  },
  {
   "cell_type": "markdown",
   "metadata": {},
   "source": [
    "# Matriks Transpose"
   ]
  },
  {
   "cell_type": "code",
   "execution_count": 44,
   "metadata": {},
   "outputs": [
    {
     "name": "stdout",
     "output_type": "stream",
     "text": [
      "[[5 4 0]\n",
      " [1 8 3]\n",
      " [6 7 2]]\n",
      "\n",
      "\n",
      "[[5 1 6]\n",
      " [4 8 7]\n",
      " [0 3 2]]\n"
     ]
    }
   ],
   "source": [
    "A = np.array([[5, 4, 0],[1,8,3],[6,7,2]])\n",
    "A_T = A.transpose()\n",
    "print(A)\n",
    "print('\\n')\n",
    "print(A_T)"
   ]
  },
  {
   "cell_type": "code",
   "execution_count": 45,
   "metadata": {},
   "outputs": [
    {
     "name": "stdout",
     "output_type": "stream",
     "text": [
      "[[ 625   16    0]\n",
      " [  16 4096  441]\n",
      " [   0  441   16]]\n",
      "(3, 3)\n"
     ]
    }
   ],
   "source": [
    "C = A * A_T\n",
    "C_T = C.transpose()\n",
    "COV = C * C_T\n",
    "print(COV)\n",
    "print(COV.shape)"
   ]
  },
  {
   "cell_type": "code",
   "execution_count": 46,
   "metadata": {},
   "outputs": [
    {
     "name": "stdout",
     "output_type": "stream",
     "text": [
      "[[2 1]\n",
      " [1 2]]\n",
      "[[2 1]\n",
      " [1 2]]\n"
     ]
    }
   ],
   "source": [
    "A = np.array([[2,1],[1,2]])\n",
    "A_T = A.transpose()\n",
    "print(A)\n",
    "print(A_T) "
   ]
  },
  {
   "cell_type": "code",
   "execution_count": 47,
   "metadata": {},
   "outputs": [
    {
     "name": "stdout",
     "output_type": "stream",
     "text": [
      "[[10  3  5]\n",
      " [ 3  7  9]\n",
      " [ 5  9 12]]\n",
      "[[10  3  5]\n",
      " [ 3  7  9]\n",
      " [ 5  9 12]]\n"
     ]
    }
   ],
   "source": [
    "M = np.array ([[10, 3, 5], [3, 7, 9], [5, 9, 12]])\n",
    "M_T = M.transpose()\n",
    "print(M)\n",
    "print(M_T)"
   ]
  },
  {
   "cell_type": "code",
   "execution_count": 48,
   "metadata": {},
   "outputs": [
    {
     "name": "stdout",
     "output_type": "stream",
     "text": [
      "[[6 3 3]\n",
      " [0 6 9]\n",
      " [9 1 3]]\n",
      "[[4 6 3]\n",
      " [1 2 5]\n",
      " [6 4 2]]\n",
      "[[25  4  0]\n",
      " [ 4 64 21]\n",
      " [ 0 21  4]]\n",
      "[[250  36   0]\n",
      " [  4 512 294]\n",
      " [  0 105  20]]\n",
      "[[250   4   0]\n",
      " [ 36 512 105]\n",
      " [  0 294  20]]\n"
     ]
    }
   ],
   "source": [
    "A = np.random.randint(10, size=(3,3))\n",
    "B = np.random.randint(10, size=(3,3))\n",
    "D = np.random.randint(10, size=(3,3))\n",
    "E = (( A + B) * C)\n",
    "F = E.transpose()\n",
    "print(A)\n",
    "print(B)\n",
    "print(C)\n",
    "print(E)\n",
    "print(F)\n"
   ]
  },
  {
   "cell_type": "markdown",
   "metadata": {},
   "source": [
    "# Matriks Elementer"
   ]
  },
  {
   "cell_type": "markdown",
   "metadata": {},
   "source": [
    "# Matriks Invers"
   ]
  },
  {
   "cell_type": "code",
   "execution_count": 49,
   "metadata": {},
   "outputs": [
    {
     "name": "stdout",
     "output_type": "stream",
     "text": [
      "[[2 0]\n",
      " [1 1]]\n",
      "[[2 0]\n",
      " [1 1]]\n"
     ]
    }
   ],
   "source": [
    "A = np.array([[2,1],[1,1]])\n",
    "B = np.array([[1,0],[1,1]])\n",
    "print(A*B)\n",
    "print(B*A)"
   ]
  },
  {
   "cell_type": "code",
   "execution_count": 50,
   "metadata": {},
   "outputs": [
    {
     "name": "stdout",
     "output_type": "stream",
     "text": [
      "[[ 2  2  1]\n",
      " [ 4  2  3]\n",
      " [ 1  3 -1]]\n"
     ]
    }
   ],
   "source": [
    "A = np.array([[2,2,1],[4,2,3],[1,3,-1]])\n",
    "print(A)"
   ]
  },
  {
   "cell_type": "code",
   "execution_count": 51,
   "metadata": {},
   "outputs": [],
   "source": [
    "def RowSwap(A,k,l):\n",
    "# =============================================================================\n",
    "#     A is a NumPy array.  RowSwap will return duplicate array with rows\n",
    "#     k and l swapped.\n",
    "# =============================================================================\n",
    "    m = A.shape[0]  # m is number of rows in A\n",
    "    n = A.shape[1]  # n is number of columns in A\n",
    "\n",
    "    B = np.copy(A).astype('float64')\n",
    "\n",
    "    for j in range(n):\n",
    "        temp = B[k][j]\n",
    "        B[k][j] = B[l][j]\n",
    "        B[l][j] = temp\n",
    "\n",
    "    return B\n",
    "\n",
    "def RowScale(A,k,scale):\n",
    "# =============================================================================\n",
    "#     A is a NumPy array.  RowScale will return duplicate array with the\n",
    "#     entries of row k multiplied by scale.\n",
    "# =============================================================================\n",
    "    m = A.shape[0]  # m is number of rows in A\n",
    "    n = A.shape[1]  # n is number of columns in A\n",
    "\n",
    "    B = np.copy(A).astype('float64')\n",
    "\n",
    "    for j in range(n):\n",
    "        B[k][j] *= scale\n",
    "\n",
    "    return B\n",
    "\n",
    "def RowAdd(A,k,l,scale):\n",
    "# =============================================================================\n",
    "#     A is a numpy array.  RowAdd will return duplicate array with row\n",
    "#     l modifed.  The new values will be the old values of row l added to\n",
    "#     the values of row k, multiplied by scale.\n",
    "# =============================================================================\n",
    "    m = A.shape[0]  # m is number of rows in A\n",
    "    n = A.shape[1]  # n is number of columns in A\n",
    "\n",
    "    B = np.copy(A).astype('float64')\n",
    "\n",
    "    for j in range(n):\n",
    "        B[l][j] += B[k][j]*scale\n",
    "\n",
    "    return B"
   ]
  },
  {
   "cell_type": "code",
   "execution_count": 52,
   "metadata": {},
   "outputs": [
    {
     "name": "stdout",
     "output_type": "stream",
     "text": [
      "[[ 1.  3. -1.]\n",
      " [ 4.  2.  3.]\n",
      " [ 2.  2.  1.]]\n"
     ]
    }
   ],
   "source": [
    "A1 = RowSwap(A,0,2)\n",
    "print(A1)"
   ]
  },
  {
   "cell_type": "code",
   "execution_count": 53,
   "metadata": {},
   "outputs": [
    {
     "name": "stdout",
     "output_type": "stream",
     "text": [
      "[[  1.   3.  -1.]\n",
      " [  0. -10.   7.]\n",
      " [  2.   2.   1.]]\n"
     ]
    }
   ],
   "source": [
    "A2 = RowAdd(A1,0,1,-4)\n",
    "print(A2)"
   ]
  },
  {
   "cell_type": "code",
   "execution_count": 54,
   "metadata": {},
   "outputs": [
    {
     "name": "stdout",
     "output_type": "stream",
     "text": [
      "[[  1.   3.  -1.]\n",
      " [  0. -10.   7.]\n",
      " [  0.  -4.   3.]]\n"
     ]
    }
   ],
   "source": [
    "A3 = RowAdd(A2,0,2,-2)\n",
    "print(A3)"
   ]
  },
  {
   "cell_type": "code",
   "execution_count": 55,
   "metadata": {},
   "outputs": [
    {
     "name": "stdout",
     "output_type": "stream",
     "text": [
      "[[  1.   3.  -1.]\n",
      " [  0.  -4.   3.]\n",
      " [  0. -10.   7.]]\n"
     ]
    }
   ],
   "source": [
    "A4 = RowSwap(A3,1,2)\n",
    "print(A4)"
   ]
  },
  {
   "cell_type": "code",
   "execution_count": 56,
   "metadata": {},
   "outputs": [
    {
     "name": "stdout",
     "output_type": "stream",
     "text": [
      "[[ 1.  3. -1.]\n",
      " [ 0. -4.  3.]\n",
      " [ 0. -2.  1.]]\n"
     ]
    }
   ],
   "source": [
    "A5 = RowAdd(A4,1,2,-2)\n",
    "print(A5)"
   ]
  },
  {
   "cell_type": "code",
   "execution_count": 57,
   "metadata": {},
   "outputs": [
    {
     "name": "stdout",
     "output_type": "stream",
     "text": [
      "[[ 1.  1.  0.]\n",
      " [ 0. -4.  3.]\n",
      " [ 0. -2.  1.]]\n"
     ]
    }
   ],
   "source": [
    "A6 = RowAdd(A5,2,0,1)\n",
    "print(A6)"
   ]
  },
  {
   "cell_type": "code",
   "execution_count": 58,
   "metadata": {},
   "outputs": [
    {
     "name": "stdout",
     "output_type": "stream",
     "text": [
      "[[ 1.  1.  0.]\n",
      " [ 0.  2.  0.]\n",
      " [ 0. -2.  1.]]\n"
     ]
    }
   ],
   "source": [
    "A7 = RowAdd(A6,2,1,-3)\n",
    "print(A7)"
   ]
  },
  {
   "cell_type": "code",
   "execution_count": 59,
   "metadata": {},
   "outputs": [
    {
     "name": "stdout",
     "output_type": "stream",
     "text": [
      "[[ 1.  0.  0.]\n",
      " [ 0.  2.  0.]\n",
      " [ 0. -2.  1.]]\n"
     ]
    }
   ],
   "source": [
    "A8= RowAdd(A7,1,0,-0.5)\n",
    "print(A8)"
   ]
  },
  {
   "cell_type": "code",
   "execution_count": 60,
   "metadata": {},
   "outputs": [
    {
     "name": "stdout",
     "output_type": "stream",
     "text": [
      "[[ 1.  0.  0.]\n",
      " [ 0.  1.  0.]\n",
      " [ 0. -2.  1.]]\n"
     ]
    }
   ],
   "source": [
    "A9 = RowScale(A8,1,1/2)\n",
    "print(A9)"
   ]
  },
  {
   "cell_type": "code",
   "execution_count": 64,
   "metadata": {},
   "outputs": [
    {
     "name": "stdout",
     "output_type": "stream",
     "text": [
      "[[1. 0. 0.]\n",
      " [0. 1. 0.]\n",
      " [0. 0. 1.]]\n"
     ]
    }
   ],
   "source": [
    "A10 = RowAdd(A9,1,2,2)\n",
    "print(A10)"
   ]
  },
  {
   "cell_type": "code",
   "execution_count": 65,
   "metadata": {},
   "outputs": [
    {
     "name": "stdout",
     "output_type": "stream",
     "text": [
      "[[1 0 0]\n",
      " [0 1 0]\n",
      " [0 0 1]]\n"
     ]
    }
   ],
   "source": [
    "B = np.array([[1,0,0],[0,1,0],[0,0,1]])\n",
    "print(B)"
   ]
  },
  {
   "cell_type": "code",
   "execution_count": 66,
   "metadata": {},
   "outputs": [
    {
     "name": "stdout",
     "output_type": "stream",
     "text": [
      "[[0. 0. 1.]\n",
      " [0. 1. 0.]\n",
      " [1. 0. 0.]]\n"
     ]
    }
   ],
   "source": [
    "B1 = RowSwap(B,0,2)\n",
    "print(B1)"
   ]
  },
  {
   "cell_type": "code",
   "execution_count": 67,
   "metadata": {},
   "outputs": [
    {
     "name": "stdout",
     "output_type": "stream",
     "text": [
      "[[ 0.  0.  1.]\n",
      " [ 0.  1. -4.]\n",
      " [ 1.  0.  0.]]\n"
     ]
    }
   ],
   "source": [
    "B2 = RowAdd(B1,0,1,-4)\n",
    "print(B2)"
   ]
  },
  {
   "cell_type": "code",
   "execution_count": 68,
   "metadata": {},
   "outputs": [
    {
     "name": "stdout",
     "output_type": "stream",
     "text": [
      "[[ 0.  0.  1.]\n",
      " [ 0.  1. -4.]\n",
      " [ 1.  0. -2.]]\n"
     ]
    }
   ],
   "source": [
    "B3 = RowAdd(B2,0,2,-2)\n",
    "print(B3)"
   ]
  },
  {
   "cell_type": "code",
   "execution_count": 69,
   "metadata": {},
   "outputs": [
    {
     "name": "stdout",
     "output_type": "stream",
     "text": [
      "[[ 0.  0.  1.]\n",
      " [ 1.  0. -2.]\n",
      " [ 0.  1. -4.]]\n"
     ]
    }
   ],
   "source": [
    "B4 = RowSwap(B3,1,2)\n",
    "print(B4)"
   ]
  },
  {
   "cell_type": "code",
   "execution_count": 70,
   "metadata": {},
   "outputs": [
    {
     "name": "stdout",
     "output_type": "stream",
     "text": [
      "[[ 0.  0.  1.]\n",
      " [ 1.  0. -2.]\n",
      " [-2.  1.  0.]]\n"
     ]
    }
   ],
   "source": [
    "B5 = RowAdd(B4,1,2,-2)\n",
    "print(B5)"
   ]
  },
  {
   "cell_type": "code",
   "execution_count": 71,
   "metadata": {},
   "outputs": [
    {
     "name": "stdout",
     "output_type": "stream",
     "text": [
      "[[-2.  1.  1.]\n",
      " [ 1.  0. -2.]\n",
      " [-2.  1.  0.]]\n"
     ]
    }
   ],
   "source": [
    "B6 = RowAdd(B5,2,0,1)\n",
    "print(B6)"
   ]
  },
  {
   "cell_type": "code",
   "execution_count": 72,
   "metadata": {},
   "outputs": [
    {
     "name": "stdout",
     "output_type": "stream",
     "text": [
      "[[-2.  1.  1.]\n",
      " [ 7. -3. -2.]\n",
      " [-2.  1.  0.]]\n"
     ]
    }
   ],
   "source": [
    "B7 = RowAdd(B6,2,1,-3)\n",
    "print(B7)"
   ]
  },
  {
   "cell_type": "code",
   "execution_count": 73,
   "metadata": {},
   "outputs": [
    {
     "name": "stdout",
     "output_type": "stream",
     "text": [
      "[[-5.5  2.5  2. ]\n",
      " [ 7.  -3.  -2. ]\n",
      " [-2.   1.   0. ]]\n"
     ]
    }
   ],
   "source": [
    "B8= RowAdd(B7,1,0,-0.5)\n",
    "print(B8)"
   ]
  },
  {
   "cell_type": "code",
   "execution_count": 75,
   "metadata": {},
   "outputs": [
    {
     "name": "stdout",
     "output_type": "stream",
     "text": [
      "[[-5.5  2.5  2. ]\n",
      " [ 3.5 -1.5 -1. ]\n",
      " [-2.   1.   0. ]]\n"
     ]
    }
   ],
   "source": [
    "B9 = RowScale(B8,1,1/2)\n",
    "print(B9)\n"
   ]
  },
  {
   "cell_type": "code",
   "execution_count": 76,
   "metadata": {},
   "outputs": [
    {
     "name": "stdout",
     "output_type": "stream",
     "text": [
      "[[-5.5  2.5  2. ]\n",
      " [ 3.5 -1.5 -1. ]\n",
      " [ 5.  -2.  -2. ]]\n"
     ]
    }
   ],
   "source": [
    "B10 = RowAdd(B9,1,2,2)\n",
    "print(B10)"
   ]
  },
  {
   "cell_type": "code",
   "execution_count": null,
   "metadata": {},
   "outputs": [],
   "source": [
    "C = RowSwap(,0,2)\n",
    "print(1)\n",
    "B2 = RowAdd(B1,0,1,-4)\n",
    "print(B2)\n",
    "B3 = RowAdd(B2,0,2,-2)\n",
    "print(B3)\n",
    "B4 = RowSwap(B3,1,2)\n",
    "print(B4)\n",
    "B5 = RowAdd(B4,1,2,-2)\n",
    "print(B5)\n",
    "\n"
   ]
  }
 ],
 "metadata": {
  "kernelspec": {
   "display_name": "Python 3",
   "language": "python",
   "name": "python3"
  },
  "language_info": {
   "codemirror_mode": {
    "name": "ipython",
    "version": 3
   },
   "file_extension": ".py",
   "mimetype": "text/x-python",
   "name": "python",
   "nbconvert_exporter": "python",
   "pygments_lexer": "ipython3",
   "version": "3.10.13"
  }
 },
 "nbformat": 4,
 "nbformat_minor": 2
}
