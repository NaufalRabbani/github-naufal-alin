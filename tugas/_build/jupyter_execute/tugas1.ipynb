{
 "cells": [
  {
   "cell_type": "markdown",
   "metadata": {},
   "source": [
    "## Sistem Persamaaan Linear"
   ]
  },
  {
   "cell_type": "markdown",
   "metadata": {},
   "source": [
    "Persamaan linear adalah persamaan matematika yang menggambarkan hubungan linear antara variabel-variabelnya. Secara umum, persamaan linear dapat ditulis dalam bentuk:\n",
    "\n",
    "$ y=mx+by=mx+b $\n",
    "\n",
    "di mana $y$ adalah variabel dependen, $x$ adalah variabel independen, $m$ adalah kemiringan (slope), dan $b$ adalah perpotongan dengan sumbu $y$ (y-intercept). Persamaan ini menggambarkan garis lurus pada bidang Cartesius. Dalam konteks yang lebih umum, persamaan linear dapat memiliki lebih dari satu variabel dan dapat diwakili dalam bentuk umum:\n",
    "\n",
    "$a_1x_1+a_2x_2+…+a_nx_n=b$\n",
    "\n",
    "di mana $a_1,a_2,…,a_n​$ adalah koefisien, $x_1,x_2,…,x_n$​ adalah variabel-variabel, dan bb adalah konstanta. Persamaan linear ini bisa menggambarkan hubungan linear antara lebih dari satu variabel."
   ]
  },
  {
   "cell_type": "markdown",
   "metadata": {},
   "source": [
    "### Contoh persamaan linear\n"
   ]
  },
  {
   "cell_type": "code",
   "execution_count": 1,
   "metadata": {},
   "outputs": [],
   "source": [
    "import numpy as np\n",
    "A=np.array([[8,9,1,19],[1,2,3,9],[2,1,1,5]])"
   ]
  },
  {
   "cell_type": "code",
   "execution_count": 2,
   "metadata": {},
   "outputs": [
    {
     "name": "stdout",
     "output_type": "stream",
     "text": [
      "[[ 8  9  1 19]\n",
      " [ 1  2  3  9]\n",
      " [ 2  1  1  5]]\n"
     ]
    }
   ],
   "source": [
    "print(A)"
   ]
  },
  {
   "cell_type": "markdown",
   "metadata": {},
   "source": [
    "Jadi, ketiga persamaan linier tiga variabel diatas adalah sebagai berikut"
   ]
  },
  {
   "cell_type": "markdown",
   "metadata": {},
   "source": [
    "$ 8x_1 + 9x_2 + x_3 = 19 $"
   ]
  },
  {
   "cell_type": "markdown",
   "metadata": {},
   "source": [
    "$ x_1 + 2x_2 + 3x_3 = 9 $"
   ]
  },
  {
   "cell_type": "markdown",
   "metadata": {},
   "source": [
    "$ 2x_1 + x_2 + x_3 = 5 $"
   ]
  },
  {
   "cell_type": "markdown",
   "metadata": {},
   "source": [
    "## Eliminasi Gauss"
   ]
  },
  {
   "cell_type": "markdown",
   "metadata": {},
   "source": [
    "Eliminasi Gauss adalah metode yang digunakan dalam aljabar linier untuk menyelesaikan sistem persamaan linear. Tujuannya adalah untuk mentransformasi sistem persamaan linear menjadi bentuk yang lebih sederhana, yang memudahkan untuk menemukan solusi sistem tersebut.\n",
    "\n",
    "Langkah-langkah eliminasi Gauss adalah sebagai berikut:\n",
    "\n",
    "1. **Pemilihan Pivot**: Pilih elemen non-nol pertama dari baris pertama, yang disebut sebagai elemen pivot. Ini biasanya elemen pertama yang bukan nol.\n",
    "\n",
    "2. **Operasi Baris**: Gunakan elemen pivot untuk membuat nol semua elemen di bawahnya dalam kolom yang sama. Ini dilakukan dengan mengurangi kelipatan dari baris pivot dari baris-baris di bawahnya.\n",
    "\n",
    "3. **Iterasi**: Langkah operasi baris di atas diulang untuk setiap baris, dimulai dari baris kedua, ketiga, dan seterusnya.\n",
    "\n",
    "Setelah langkah-langkah di atas dilakukan, sistem persamaan linear akan berada dalam bentuk segitiga atas (upper triangular form). Dalam bentuk ini, mudah untuk menemukan solusi sistem menggunakan metode substitusi atau metode balikan (backward substitution).\n"
   ]
  },
  {
   "cell_type": "markdown",
   "metadata": {},
   "source": [
    "### contoh penerapan eliminasi Gauss"
   ]
  },
  {
   "cell_type": "markdown",
   "metadata": {},
   "source": [
    "Untuk penerapan eliminasi Gauss, saya kita bisa mengambil contoh persamaan linier yang diatas\n"
   ]
  },
  {
   "cell_type": "markdown",
   "metadata": {},
   "source": [
    "$ 8x_1 + 9x_2 + x_3 = 19 $"
   ]
  },
  {
   "cell_type": "markdown",
   "metadata": {},
   "source": [
    "$ x_1 + 2x_2 + 3x_3 = 9 $"
   ]
  },
  {
   "cell_type": "markdown",
   "metadata": {},
   "source": [
    "$ 2x_1 + x_2 + x_3 = 5 $"
   ]
  },
  {
   "cell_type": "markdown",
   "metadata": {},
   "source": [
    "Pertama-tama kita menulis kode program untuk digunakan pada perhitungan persamaan linier dengan cara eliminasi Gauss"
   ]
  },
  {
   "cell_type": "code",
   "execution_count": 3,
   "metadata": {},
   "outputs": [],
   "source": [
    "def RowSwap(A,k,l):\n",
    "# =============================================================================\n",
    "#     A is a NumPy array.  RowSwap will return duplicate array with rows\n",
    "#     k and l swapped.\n",
    "# =============================================================================\n",
    "    m = A.shape[0]  # m is number of rows in A\n",
    "    n = A.shape[1]  # n is number of columns in A\n",
    "\n",
    "    B = np.copy(A).astype('float64')\n",
    "\n",
    "    for j in range(n):\n",
    "        temp = B[k][j]\n",
    "        B[k][j] = B[l][j]\n",
    "        B[l][j] = temp\n",
    "\n",
    "    return B\n",
    "\n",
    "def RowScale(A,k,scale):\n",
    "# =============================================================================\n",
    "#     A is a NumPy array.  RowScale will return duplicate array with the\n",
    "#     entries of row k multiplied by scale.\n",
    "# =============================================================================\n",
    "    m = A.shape[0]  # m is number of rows in A\n",
    "    n = A.shape[1]  # n is number of columns in A\n",
    "\n",
    "    B = np.copy(A).astype('float64')\n",
    "\n",
    "    for j in range(n):\n",
    "        B[k][j] *= scale\n",
    "\n",
    "    return B\n",
    "\n",
    "def RowAdd(A,k,l,scale):\n",
    "# =============================================================================\n",
    "#     A is a numpy array.  RowAdd will return duplicate array with row\n",
    "#     l modifed.  The new values will be the old values of row l added to\n",
    "#     the values of row k, multiplied by scale.\n",
    "# =============================================================================\n",
    "    m = A.shape[0]  # m is number of rows in A\n",
    "    n = A.shape[1]  # n is number of columns in A\n",
    "\n",
    "    B = np.copy(A).astype('float64')\n",
    "\n",
    "    for j in range(n):\n",
    "        B[l][j] += B[k][j]*scale\n",
    "\n",
    "    return B"
   ]
  },
  {
   "cell_type": "markdown",
   "metadata": {},
   "source": [
    "Setelah menulis kode program tersebut, kita mendapatkan tiga fungsi, yaitu **RowSwap**,**RowScale**, dan **RowAdd**. Setelah itu, kita terapkan pada persamaan yang telah kita tulis diatas"
   ]
  },
  {
   "cell_type": "markdown",
   "metadata": {},
   "source": [
    "1. **RowSwap** adalah fungsi yang menukarkan posisi dua baris dari suatu matriks \n",
    "2. **RowScale** adalah fungsi yang mengalikan suatu baris dalam matriks dengan konstanta dengan nilai konstanta tidak sama dengan nol \n",
    "3. **RowAdd** adalah fungsi yang menambahkan kelipatan suatu baris dengan baris yang lain"
   ]
  },
  {
   "cell_type": "markdown",
   "metadata": {},
   "source": [
    "Tahap pertama, yaitu menukar posisi persamaan ke-1 dengan persamaan ke-2 dengan fungsi **RowSwap**"
   ]
  },
  {
   "cell_type": "code",
   "execution_count": 4,
   "metadata": {},
   "outputs": [
    {
     "name": "stdout",
     "output_type": "stream",
     "text": [
      "[[ 1.  2.  3.  9.]\n",
      " [ 8.  9.  1. 19.]\n",
      " [ 2.  1.  1.  5.]]\n"
     ]
    }
   ],
   "source": [
    "A1 = RowSwap(A,0,1) #index python dimulai dari 0,1,2, dan seterusnya\n",
    "print(A1)"
   ]
  },
  {
   "cell_type": "markdown",
   "metadata": {},
   "source": [
    "Tahap kedua yaitu menambahkan -8 kali persamaan ke-1 ke persamaan ke-2 dengan fungsi **RowAdd**"
   ]
  },
  {
   "cell_type": "code",
   "execution_count": 5,
   "metadata": {},
   "outputs": [
    {
     "name": "stdout",
     "output_type": "stream",
     "text": [
      "[[  1.   2.   3.   9.]\n",
      " [  0.  -7. -23. -53.]\n",
      " [  2.   1.   1.   5.]]\n"
     ]
    }
   ],
   "source": [
    "A2 = RowAdd (A1,0,1,-8)\n",
    "print(A2)"
   ]
  },
  {
   "cell_type": "markdown",
   "metadata": {},
   "source": [
    "Tahap ketiga yaitu menambahkan -2 kali persamaan ke-1 ke persamaan ke-3"
   ]
  },
  {
   "cell_type": "code",
   "execution_count": 6,
   "metadata": {},
   "outputs": [
    {
     "name": "stdout",
     "output_type": "stream",
     "text": [
      "[[  1.   2.   3.   9.]\n",
      " [  0.  -7. -23. -53.]\n",
      " [  0.  -3.  -5. -13.]]\n"
     ]
    }
   ],
   "source": [
    "A3 = RowAdd(A2,0,2,-2)\n",
    "print(A3)"
   ]
  },
  {
   "cell_type": "markdown",
   "metadata": {},
   "source": [
    "Tahap keempat yaitu mengalikan persamaan ke-2 dengan 1/7 dengan fungsi **RowScale**"
   ]
  },
  {
   "cell_type": "code",
   "execution_count": 7,
   "metadata": {},
   "outputs": [
    {
     "name": "stdout",
     "output_type": "stream",
     "text": [
      "[[  1.           2.           3.           9.        ]\n",
      " [ -0.           1.           3.28571429   7.57142857]\n",
      " [  0.          -3.          -5.         -13.        ]]\n"
     ]
    }
   ],
   "source": [
    "A4 = RowScale(A3,1,-1/7)\n",
    "print(A4)"
   ]
  },
  {
   "cell_type": "markdown",
   "metadata": {},
   "source": [
    "Tahap kelima yaitu menambahkan 3 kali persamaan ke-2 ke persamaan ke-3"
   ]
  },
  {
   "cell_type": "code",
   "execution_count": 8,
   "metadata": {},
   "outputs": [
    {
     "name": "stdout",
     "output_type": "stream",
     "text": [
      "[[ 1.          2.          3.          9.        ]\n",
      " [-0.          1.          3.28571429  7.57142857]\n",
      " [ 0.          0.          4.85714286  9.71428571]]\n"
     ]
    }
   ],
   "source": [
    "A5 = RowAdd(A4,1,2,3)\n",
    "print(A5)"
   ]
  },
  {
   "cell_type": "markdown",
   "metadata": {},
   "source": [
    "Tahap keenam yaitu mengalikan persamaan-3 dengan 1/4.85714286 (agar nilai $x_3$ persamaan ke-3 bernilai 1)"
   ]
  },
  {
   "cell_type": "code",
   "execution_count": 9,
   "metadata": {},
   "outputs": [
    {
     "name": "stdout",
     "output_type": "stream",
     "text": [
      "[[ 1.          2.          3.          9.        ]\n",
      " [-0.          1.          3.28571429  7.57142857]\n",
      " [ 0.          0.          1.          2.        ]]\n"
     ]
    }
   ],
   "source": [
    "A6 = RowScale(A5,2,1/4.85714286)\n",
    "print(A6)"
   ]
  },
  {
   "cell_type": "markdown",
   "metadata": {},
   "source": [
    "Setelah dilakukan penghitungan akan didapatkan persamaan sebagai berikut"
   ]
  },
  {
   "cell_type": "markdown",
   "metadata": {},
   "source": [
    "\n",
    "$ x_1 + 2x_2 + 3x_3 = 9$"
   ]
  },
  {
   "cell_type": "markdown",
   "metadata": {},
   "source": [
    "$x_2 + 3.28571429x_3 = 7.57142857$"
   ]
  },
  {
   "cell_type": "markdown",
   "metadata": {},
   "source": [
    "$x_3 = 2 $"
   ]
  },
  {
   "cell_type": "markdown",
   "metadata": {},
   "source": [
    "Maka, bisa didapat bahwa nilai dari $x_3$ adalah $2$. Dengan begitu kita bisa mencari nilai $x_1$ dan $x_2$ dengan cara substitusi sebagai berikut"
   ]
  },
  {
   "cell_type": "code",
   "execution_count": 10,
   "metadata": {},
   "outputs": [
    {
     "name": "stdout",
     "output_type": "stream",
     "text": [
      "X2 = 1\n"
     ]
    }
   ],
   "source": [
    "x3 = 2\n",
    "x2 = 7.57142857 - (3.28571429 * x3)\n",
    "print ('X2 =', round(x2))"
   ]
  },
  {
   "cell_type": "code",
   "execution_count": 11,
   "metadata": {},
   "outputs": [
    {
     "name": "stdout",
     "output_type": "stream",
     "text": [
      "1\n"
     ]
    }
   ],
   "source": [
    "x1 = 9 - ((round(x2) * 2) + (x3 * 3))\n",
    "print (x1)"
   ]
  },
  {
   "cell_type": "markdown",
   "metadata": {},
   "source": [
    "Jadi, bisa didapat nilai dari $x_1$, $x_2$, dan $x_3$ sebagai berikut "
   ]
  },
  {
   "cell_type": "markdown",
   "metadata": {},
   "source": [
    "$ x_1 = 1\\\\\n",
    "  x_2 = 1\\\\\n",
    "  x_3 = 2\\\\\n",
    "  $"
   ]
  },
  {
   "cell_type": "markdown",
   "metadata": {},
   "source": [
    "Contoh persamaan yang lain dengan menggunakan 4 variabel"
   ]
  },
  {
   "cell_type": "markdown",
   "metadata": {},
   "source": [
    "$ 2x_1 + 3x_2 - x_3 + 4x_4 = 10 $ "
   ]
  },
  {
   "cell_type": "markdown",
   "metadata": {},
   "source": [
    "$ x_1 −2x_2 + 4x_3 − 3x_4 = 5 $"
   ]
  },
  {
   "cell_type": "markdown",
   "metadata": {},
   "source": [
    "$ 3x_1 + x_2 + 2x_3 − 2x_4 = 7 $"
   ]
  },
  {
   "cell_type": "markdown",
   "metadata": {},
   "source": [
    "$ 4x_1 − x_2 − x_3 + 2x_4 = 8 $"
   ]
  },
  {
   "cell_type": "markdown",
   "metadata": {},
   "source": [
    "Persamaan diatas akan saya selesaikan menggunakan eliminasi Gauss"
   ]
  },
  {
   "cell_type": "code",
   "execution_count": 12,
   "metadata": {},
   "outputs": [
    {
     "name": "stdout",
     "output_type": "stream",
     "text": [
      "[[ 2  3 -1  4 10]\n",
      " [ 1 -2  4 -3  5]\n",
      " [ 3  1  2 -2  7]\n",
      " [ 4 -1 -1  2  8]]\n"
     ]
    }
   ],
   "source": [
    "import numpy as np\n",
    "B = np.array([[2,3,-1,4,10],[1,-2,4,-3,5],[3,1,2,-2,7],[4,-1,-1,2,8]])\n",
    "print(B)"
   ]
  },
  {
   "cell_type": "code",
   "execution_count": 13,
   "metadata": {},
   "outputs": [
    {
     "name": "stdout",
     "output_type": "stream",
     "text": [
      "[[ 1. -2.  4. -3.  5.]\n",
      " [ 2.  3. -1.  4. 10.]\n",
      " [ 3.  1.  2. -2.  7.]\n",
      " [ 4. -1. -1.  2.  8.]]\n"
     ]
    }
   ],
   "source": [
    "B1 = RowSwap(B,0,1)\n",
    "print(B1)"
   ]
  },
  {
   "cell_type": "code",
   "execution_count": 14,
   "metadata": {},
   "outputs": [
    {
     "name": "stdout",
     "output_type": "stream",
     "text": [
      "[[ 1. -2.  4. -3.  5.]\n",
      " [ 0.  7. -9. 10.  0.]\n",
      " [ 3.  1.  2. -2.  7.]\n",
      " [ 4. -1. -1.  2.  8.]]\n"
     ]
    }
   ],
   "source": [
    "B2 = RowAdd(B1,0,1,-2)\n",
    "print(B2)"
   ]
  },
  {
   "cell_type": "code",
   "execution_count": 15,
   "metadata": {},
   "outputs": [
    {
     "name": "stdout",
     "output_type": "stream",
     "text": [
      "[[  1.  -2.   4.  -3.   5.]\n",
      " [  0.   7.  -9.  10.   0.]\n",
      " [  0.   7. -10.   7.  -8.]\n",
      " [  4.  -1.  -1.   2.   8.]]\n"
     ]
    }
   ],
   "source": [
    "B3 = RowAdd(B2,0,2,-3)\n",
    "print(B3)"
   ]
  },
  {
   "cell_type": "code",
   "execution_count": 16,
   "metadata": {},
   "outputs": [
    {
     "name": "stdout",
     "output_type": "stream",
     "text": [
      "[[  1.  -2.   4.  -3.   5.]\n",
      " [  0.   7.  -9.  10.   0.]\n",
      " [  0.   7. -10.   7.  -8.]\n",
      " [  0.   7. -17.  14. -12.]]\n"
     ]
    }
   ],
   "source": [
    "B4 = RowAdd(B3,0,3,-4)\n",
    "print(B4)"
   ]
  },
  {
   "cell_type": "code",
   "execution_count": 17,
   "metadata": {},
   "outputs": [
    {
     "name": "stdout",
     "output_type": "stream",
     "text": [
      "[[  1.          -2.           4.          -3.           5.        ]\n",
      " [  0.           1.          -1.28571429   1.42857143   0.        ]\n",
      " [  0.           7.         -10.           7.          -8.        ]\n",
      " [  0.           7.         -17.          14.         -12.        ]]\n"
     ]
    }
   ],
   "source": [
    "B5 = RowScale(B4,1,1/7)\n",
    "print(B5)"
   ]
  },
  {
   "cell_type": "code",
   "execution_count": 18,
   "metadata": {},
   "outputs": [
    {
     "name": "stdout",
     "output_type": "stream",
     "text": [
      "[[  1.          -2.           4.          -3.           5.        ]\n",
      " [  0.           1.          -1.28571429   1.42857143   0.        ]\n",
      " [  0.           0.          -1.          -3.          -8.        ]\n",
      " [  0.           7.         -17.          14.         -12.        ]]\n"
     ]
    }
   ],
   "source": [
    "B6 = RowAdd(B5,1,2,-7)\n",
    "print(B6)"
   ]
  },
  {
   "cell_type": "code",
   "execution_count": 19,
   "metadata": {},
   "outputs": [
    {
     "name": "stdout",
     "output_type": "stream",
     "text": [
      "[[  1.          -2.           4.          -3.           5.        ]\n",
      " [  0.           1.          -1.28571429   1.42857143   0.        ]\n",
      " [  0.           0.          -1.          -3.          -8.        ]\n",
      " [  0.           0.          -8.           4.         -12.        ]]\n"
     ]
    }
   ],
   "source": [
    "B7 = RowAdd(B6,1,3,-7)\n",
    "print(B7)"
   ]
  },
  {
   "cell_type": "code",
   "execution_count": 20,
   "metadata": {},
   "outputs": [
    {
     "name": "stdout",
     "output_type": "stream",
     "text": [
      "[[ 1.         -2.          4.         -3.          5.        ]\n",
      " [ 0.          1.         -1.28571429  1.42857143  0.        ]\n",
      " [ 0.          0.         -1.         -3.         -8.        ]\n",
      " [ 0.          0.          0.         28.         52.        ]]\n"
     ]
    }
   ],
   "source": [
    "B8 = RowAdd(B7,2,3,-8)\n",
    "print(B8)"
   ]
  },
  {
   "cell_type": "markdown",
   "metadata": {},
   "source": [
    "Dengan begini kita bisa menemukan nilai dari $x_4$ yaitu $\\frac{52}{28}$ atau $\\frac{13}{7}$"
   ]
  },
  {
   "cell_type": "markdown",
   "metadata": {},
   "source": [
    "Setelah itu, kita bisa mencari nilai $x_1, x_2,$ dan $x_3$ dengan substitusi mundur"
   ]
  },
  {
   "cell_type": "markdown",
   "metadata": {},
   "source": [
    "$-x_3 - 3x_4 = -8$ \\\n",
    "$x_3 + 3x_4 = 8$"
   ]
  },
  {
   "cell_type": "code",
   "execution_count": 21,
   "metadata": {},
   "outputs": [
    {
     "name": "stdout",
     "output_type": "stream",
     "text": [
      "2.428571428571429\n",
      "1.8571428571428572\n",
      "17.0\n",
      "13.0\n"
     ]
    }
   ],
   "source": [
    "x4 = 13/7\n",
    "x3 = 8 - (x4*3)\n",
    "print(x3)\n",
    "print(x4)\n",
    "print(x3*7)\n",
    "print(x4*7)"
   ]
  },
  {
   "cell_type": "markdown",
   "metadata": {},
   "source": [
    "$x_3 = \\frac{17}{7}$"
   ]
  },
  {
   "cell_type": "markdown",
   "metadata": {},
   "source": [
    "$ x_2 - 1.28571429x_3 + 1.42857143x_4 = 0$ (dikali 7) \\\n",
    "$ 7x_2 - 9x_3 + 10x_4 = 0 $"
   ]
  },
  {
   "cell_type": "code",
   "execution_count": 22,
   "metadata": {},
   "outputs": [
    {
     "name": "stdout",
     "output_type": "stream",
     "text": [
      "0.469387762857143\n",
      "23.000000380000007\n"
     ]
    }
   ],
   "source": [
    "x3 = 2.428571428571429\n",
    "x4 = 1.8571428571428572\n",
    "x2 = (1.28571429 * x3) - (1.42857143 * x4)\n",
    "print(x2)\n",
    "print(x2*49)"
   ]
  },
  {
   "cell_type": "markdown",
   "metadata": {},
   "source": [
    "$x_2 = \\frac{23}{49}$"
   ]
  },
  {
   "cell_type": "markdown",
   "metadata": {},
   "source": [
    "$x_1 - 2x_2 + 4x_3 - 3x_4 = 5$"
   ]
  },
  {
   "cell_type": "code",
   "execution_count": 23,
   "metadata": {},
   "outputs": [
    {
     "name": "stdout",
     "output_type": "stream",
     "text": [
      "1.795918382857142\n",
      "88.00000075999995\n"
     ]
    }
   ],
   "source": [
    "x1 = 5 + 2*x2 - 4*x3 + 3*x4\n",
    "print(x1)\n",
    "print(x1*49)"
   ]
  },
  {
   "cell_type": "markdown",
   "metadata": {},
   "source": [
    "Jadi, nilai dari $x_1, x_2, x_3, x_4$ adalah $ \\frac{88}{49} $, $ \\frac{23}{49}$, $\\frac{17}{7}$, $\\frac{13}{7}$ "
   ]
  }
 ],
 "metadata": {
  "kernelspec": {
   "display_name": "Python 3 (ipykernel)",
   "language": "python",
   "name": "python3"
  },
  "language_info": {
   "codemirror_mode": {
    "name": "ipython",
    "version": 3
   },
   "file_extension": ".py",
   "mimetype": "text/x-python",
   "name": "python",
   "nbconvert_exporter": "python",
   "pygments_lexer": "ipython3",
   "version": "3.10.13"
  }
 },
 "nbformat": 4,
 "nbformat_minor": 2
}