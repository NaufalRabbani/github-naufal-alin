{
 "cells": [
  {
   "cell_type": "markdown",
   "metadata": {},
   "source": [
    "# Formula Determinan"
   ]
  },
  {
   "cell_type": "markdown",
   "metadata": {},
   "source": [
    "## Ekspansi Kofaktor"
   ]
  },
  {
   "cell_type": "markdown",
   "metadata": {},
   "source": [
    "Ekspansi kofaktor adalah salah satu cara untuk mencari determinan suatu matriks dengan cara membagi matriks tersebut menjadi matriks minor, yaitu menghilangkan suatu baris dan kolom matriks utama yang mengacu pada suatu elemen tertentu dalam matriks"
   ]
  },
  {
   "cell_type": "markdown",
   "metadata": {},
   "source": [
    "## Penggunaan ekspansi kofaktor\n",
    "Untuk contoh penggunaan ekspansi kofaktor kita bisa menggunakan matriks 4x4 adalah sebagai berikut"
   ]
  },
  {
   "cell_type": "markdown",
   "metadata": {},
   "source": [
    "$A = \\begin {bmatrix}\n",
    "2 & -1 & 0 & 3 \\\\\n",
    "0 & 1 & 2 & -3 \\\\\n",
    "-1 & 0 & 3 & 1 \\\\\n",
    "4 & 2 & 0 & -1 \n",
    "\\end {bmatrix}$"
   ]
  },
  {
   "cell_type": "markdown",
   "metadata": {},
   "source": [
    "Diketahui matrik A seperti diatas. Langkah pertama yaang harus kita lakukan adalah menentukan matriks matriks minor dari matriks A diatas. Contohnya yang akan saya gunakan adalah matriks $A_{11}, A_{21}, A_{31}, A_{41}$  "
   ]
  },
  {
   "cell_type": "markdown",
   "metadata": {},
   "source": [
    "$A_{11} = \\begin {bmatrix}\n",
    " 1 & 2 & 3 \\\\\n",
    " 0 & 3 & 1 \\\\\n",
    " 2 & 0 & 1\n",
    "\\end {bmatrix} $"
   ]
  },
  {
   "cell_type": "markdown",
   "metadata": {},
   "source": [
    "$A_{21} = \\begin {bmatrix}\n",
    "-1 & 0 & 3 \\\\\n",
    "0 & 3 & 1 \\\\\n",
    "2 & 0 & -1 \n",
    "\\end {bmatrix}$"
   ]
  },
  {
   "cell_type": "markdown",
   "metadata": {},
   "source": [
    "$A_{31} = \\begin {bmatrix}\n",
    "-1 & 0 & 3 \\\\\n",
    "1 & 2 & -3 \\\\\n",
    "2 & 0 & -1 \n",
    "\\end {bmatrix} $"
   ]
  },
  {
   "cell_type": "markdown",
   "metadata": {},
   "source": [
    "$A_{41} = \\begin {bmatrix}\n",
    "-1 & 0 & 3 \\\\\n",
    "1 & 2 & -3 \\\\\n",
    "0 & 3 & 1\n",
    "\\end {bmatrix} $"
   ]
  },
  {
   "cell_type": "markdown",
   "metadata": {},
   "source": [
    "Setelah matriks minor seperti diatas, selanjutnya adalah mencari kofaktor dan determinan dari matriks minor diatas"
   ]
  },
  {
   "cell_type": "markdown",
   "metadata": {},
   "source": [
    "$det(A_{11}) = (m_{11} . c_{11}) + (m_{21} . c_{21}) + (m_{31} . c_{31}) \\\\\n",
    "= (1 . (-1^{1+1} . det \\begin{bmatrix} 3 & 1 \\\\ 0 & 1 \\end {bmatrix} )) + (0 . (-1^{2+1} . det \\begin{bmatrix} 2 & 3 \\\\ 0 & 1 \\end{bmatrix})) + (2 . (-1^{3+1}. det \\begin{bmatrix} 2 & 3 \\\\ 3 & 1 \\end{bmatrix} )) = -11 \\\\ $"
   ]
  },
  {
   "cell_type": "markdown",
   "metadata": {},
   "source": [
    "$det(A_{21}) = (m_{11} . c_{11}) + (m_{12} . c_{12}) + (m_{13} . c_{13}) \\\\\n",
    "= ((-1) . ((-1^{1+1}) . det \\begin{bmatrix} 3 & 1 \\\\ 0 & -1 \\end{bmatrix}) + (0 . (-1^{2+1}) . det \\begin{bmatrix} 0 & 3 \\\\ 0 & -1 \\end {bmatrix}) + (2 . ((-1^{3+1}) . det \\begin{bmatrix} 0 & 3 \\\\ 3 & 1 \\end{bmatrix})) = -15 $"
   ]
  },
  {
   "cell_type": "markdown",
   "metadata": {},
   "source": [
    "$det(A_{31}) = (m_{11} . c_{11}) + (m_{12} . c_{12}) + (m_{13} . c_{13})\\\\\n",
    "= ((-1) . ((-1^{1+1}) . det \\begin{bmatrix} 2 & -3 \\\\ 0 & -1 \\end{bmatrix})) + (0 . ((-1^{1+2}) . det \\begin{bmatrix} 1 & 2 \\\\ -3 & -1 \\end{bmatrix})) + (3 . ((-1^{1+3}) . det \\begin{bmatrix} 1 & 2 \\\\ 2 & 0 \\end{bmatrix})) = -10 $"
   ]
  },
  {
   "cell_type": "markdown",
   "metadata": {},
   "source": [
    "$det(A_{41}) = (m_{11} . c_{11}) + (m_{21} . c_{21}) + (m_{31} . c_{31}) \\\\\n",
    "= ((-1) . (-1^{1+1}). det \\begin{bmatrix} 2 & -3 \\\\ 3 & 1 \\end{bmatrix}) + (1 . ((-1^{2+1}) . det \\begin{bmatrix} 0 & -3 \\\\ 3 & 1 \\end{bmatrix})) + (0 . ((-1^{3+1}) . det \\begin{bmatrix} 0 & -3 \\\\ 2 & -3 \\end{bmatrix})) = 16 $"
   ]
  },
  {
   "cell_type": "markdown",
   "metadata": {},
   "source": [
    "Setelah menemukan determinan dari matriks minor diatas, selanjutnya adalah mencari kofaktornya"
   ]
  },
  {
   "cell_type": "markdown",
   "metadata": {},
   "source": [
    "$C_{11} = (-1^{1+1} . det (A_{11})) = 1 . (-11) = -11 $"
   ]
  },
  {
   "cell_type": "markdown",
   "metadata": {},
   "source": [
    "$C_{21} = (-1^{2+1}.det(A_{21})) = -1.(-15) = 15$"
   ]
  },
  {
   "cell_type": "markdown",
   "metadata": {},
   "source": [
    "$C_{31} = (-1^{3+1}.det(A_{31})) = 1.(-10) = -10 $"
   ]
  },
  {
   "cell_type": "markdown",
   "metadata": {},
   "source": [
    "$C_{41} = (-1^{4+1}.det(A_{41})) = -1.16  = -16$"
   ]
  },
  {
   "cell_type": "markdown",
   "metadata": {},
   "source": [
    "Setelah ketemu kofaktor maka bisa dicari nilai dari determinan matriks $A$"
   ]
  },
  {
   "cell_type": "markdown",
   "metadata": {},
   "source": [
    "$det(A) = (a_{11} . c_{11}) + (a_{21} . c_{21}) + (a_{31} . c_{31}) + (a_{41} . c_{41})\\\\\n",
    "= (2 . (-11)) + (0 . 15) + ((-1) . (-10)) + (4 . (-16)) = -76 $"
   ]
  },
  {
   "cell_type": "markdown",
   "metadata": {},
   "source": [
    "Jadi, determinan dari matriks $A$ adalah $-76$"
   ]
  }
 ],
 "metadata": {
  "kernelspec": {
   "display_name": "Python 3",
   "language": "python",
   "name": "python3"
  },
  "language_info": {
   "codemirror_mode": {
    "name": "ipython",
    "version": 3
   },
   "file_extension": ".py",
   "mimetype": "text/x-python",
   "name": "python",
   "nbconvert_exporter": "python",
   "pygments_lexer": "ipython3",
   "version": "3.10.13"
  }
 },
 "nbformat": 4,
 "nbformat_minor": 2
}