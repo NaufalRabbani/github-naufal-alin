{
 "cells": [
  {
   "cell_type": "markdown",
   "metadata": {},
   "source": [
    "# Matriks Invers\n",
    "Matriks invers adalah kebalikan dari suatu matriks. jadi jika dilambangkan suatu matriks adalah matriks $A$ maka kebalikan atau invers dari matriks $A$ adalah matriks $A^{-1}$. Matriks $A^{-1}$ dapat dikatakan invers dari matriks $A$ jika memenuhi syarat apabila matriks $A$ dikalikan dengan matriks $A^{-1}$ menghasilkan matriks $I$ yang mana matriks $I$ adalah matriks identitas"
   ]
  },
  {
   "cell_type": "markdown",
   "metadata": {},
   "source": [
    "## Sifat sifat Matriks Invers \n",
    "- Invers dari matriks Invers adalah matriks itu sendiri, contoh invers dari matrik $A^{-1}$ adalah matriks $A$ itu sendiri\n",
    "- Perkalian matriks dengan inversnya akan menghasilkan matriks identitas, contoh $A \\times A^{-1} = A^{-1} \\times A = I $ \n",
    "- Invers dari perkalian dua matriks adalah hasil dari perkalian inversnya dalam urutan terbalik, contoh $(AB)^{-1} = B^{-1}A^{-1} $\n",
    "- Invers dari matriks transpose adalah transpose dari matriks invers, contoh $(A^T)^{-1} = (A^{-1})^T$\n",
    "- Invers dari matriks identitas adalah matriks identitas itu sendiri, contoh $I \\times I^{-1} = I$"
   ]
  },
  {
   "cell_type": "markdown",
   "metadata": {},
   "source": [
    "## Mencari Matriks Invers dengan metode Gauss-Jordan\n",
    "Metode Gauss Jordan adalah adalah salah satu metode eliminasi yang digunakan untuk menyelesaikan sistem persamaan linear dan mendapatkan solusi yang diberikan dengan cara diubah menjadi augmented matriks atau matriks yang diperluas yang a disederhanakan menjadi bentuk baris yang tereduksi \n",
    "contohnya diberikan matriks $A_{3 \\times 3}$"
   ]
  },
  {
   "cell_type": "markdown",
   "metadata": {},
   "source": [
    "$A=\n",
    "\\begin{bmatrix}\n",
    "1 & 2 & 3 \\\\\n",
    "0 & 1 & 4 \\\\\n",
    "5 & 6 & 0\n",
    "\\end{bmatrix}$"
   ]
  },
  {
   "cell_type": "markdown",
   "metadata": {},
   "source": [
    "Kemudian buat augmented matrix atau perluasan dari matriks $A$ dengan menambahkan matriks identiitas sehingga membentuk matriks $AI$ "
   ]
  },
  {
   "cell_type": "markdown",
   "metadata": {},
   "source": [
    "$AI =\n",
    "\\begin{bmatrix}\n",
    "1 & 2 & 3 & 1 & 0 & 0 \\\\\n",
    "0 & 1 & 4 & 0 & 1 & 0 \\\\\n",
    "5 & 6 & 0 & 0 & 0 & 1 \n",
    "\\end{bmatrix}$"
   ]
  },
  {
   "cell_type": "markdown",
   "metadata": {},
   "source": [
    "Lakukan operasi sehingga menghasilkan matriks $IA^{-1}$"
   ]
  },
  {
   "cell_type": "code",
   "execution_count": 1,
   "metadata": {},
   "outputs": [],
   "source": [
    "# import library numpy\n",
    "import numpy as np\n",
    "\n",
    "def RowSwap(A,k,l):\n",
    "# =============================================================================\n",
    "#     A adalah sebuah NumPy array.  RowSwap akan menghasilkan duplicate dari \n",
    "#     array dengan baris k dan l di tukar\n",
    "# =============================================================================\n",
    "    m = A.shape[0]  # m adalah nomor baris di A\n",
    "    n = A.shape[1]  # n adalah nomor kolom di A\n",
    "\n",
    "    B = np.copy(A).astype('float64')\n",
    "\n",
    "    for j in range(n):\n",
    "        temp = B[k][j]\n",
    "        B[k][j] = B[l][j]\n",
    "        B[l][j] = temp\n",
    "\n",
    "    return B\n",
    "\n",
    "def RowScale(A,k,scale):\n",
    "# =============================================================================\n",
    "#     A adalah sebuah NumPy array.  RowScale akan menghasilkan duplicate dari \n",
    "#     array dengan baris k di kali dengan skalar bukan 0\n",
    "# =============================================================================\n",
    "    m = A.shape[0]  # m adalah nomor baris di A\n",
    "    n = A.shape[1]  # n adalah nomor kolom di A\n",
    "\n",
    "    B = np.copy(A).astype('float64')\n",
    "\n",
    "    for j in range(n):\n",
    "        B[k][j] *= scale\n",
    "\n",
    "    return B\n",
    "\n",
    "def RowAdd(A,k,l,scale):\n",
    "# =============================================================================\n",
    "#     A adalah sebuah NumPy array.  RowAdd akan menghasilkan duplicate dari \n",
    "#     array dengan baris k akan di kali dengan 'scale' bukan 0. lalu nilai\n",
    "#     baris l akan di tambah dengan nilai baris k yang sudah dikalikan  \n",
    "# =============================================================================\n",
    "    m = A.shape[0]  # m adalah nomor baris di A\n",
    "    n = A.shape[1]  # n adalah nomor kolom di A\n",
    "\n",
    "    B = np.copy(A).astype('float64')\n",
    "\n",
    "    for j in range(n):\n",
    "        B[l][j] += B[k][j]*scale\n",
    "\n",
    "    return B"
   ]
  },
  {
   "cell_type": "markdown",
   "metadata": {},
   "source": [
    "Gunakan fungsi **RowAdd**, **Rowscale**, dan **RowSwap** untuk melakukan operasi"
   ]
  },
  {
   "cell_type": "code",
   "execution_count": 2,
   "metadata": {},
   "outputs": [
    {
     "name": "stdout",
     "output_type": "stream",
     "text": [
      "[[1 2 3 1 0 0]\n",
      " [0 1 4 0 1 0]\n",
      " [5 6 0 0 0 1]]\n"
     ]
    }
   ],
   "source": [
    "AI = np.array([[1,2,3,1,0,0],[0,1,4,0,1,0],[5,6,0,0,0,1]])\n",
    "print(AI)"
   ]
  },
  {
   "cell_type": "code",
   "execution_count": 3,
   "metadata": {},
   "outputs": [
    {
     "name": "stdout",
     "output_type": "stream",
     "text": [
      "[[  1.   2.   3.   1.   0.   0.]\n",
      " [  0.   1.   4.   0.   1.   0.]\n",
      " [  0.  -4. -15.  -5.   0.   1.]]\n"
     ]
    }
   ],
   "source": [
    "AI1 = RowAdd(AI,0,2,-5)\n",
    "print(AI1)"
   ]
  },
  {
   "cell_type": "code",
   "execution_count": 4,
   "metadata": {},
   "outputs": [
    {
     "name": "stdout",
     "output_type": "stream",
     "text": [
      "[[ 1.  2.  3.  1.  0.  0.]\n",
      " [ 0.  1.  4.  0.  1.  0.]\n",
      " [ 0.  0.  1. -5.  4.  1.]]\n"
     ]
    }
   ],
   "source": [
    "AI2 = RowAdd(AI1,1,2,4)\n",
    "print(AI2)"
   ]
  },
  {
   "cell_type": "code",
   "execution_count": 5,
   "metadata": {},
   "outputs": [
    {
     "name": "stdout",
     "output_type": "stream",
     "text": [
      "[[  1.   2.   3.   1.   0.   0.]\n",
      " [  0.   1.   0.  20. -15.  -4.]\n",
      " [  0.   0.   1.  -5.   4.   1.]]\n"
     ]
    }
   ],
   "source": [
    "AI3 = RowAdd(AI2,2,1,-4)\n",
    "print(AI3)"
   ]
  },
  {
   "cell_type": "code",
   "execution_count": 6,
   "metadata": {},
   "outputs": [
    {
     "name": "stdout",
     "output_type": "stream",
     "text": [
      "[[  1.   2.   0.  16. -12.  -3.]\n",
      " [  0.   1.   0.  20. -15.  -4.]\n",
      " [  0.   0.   1.  -5.   4.   1.]]\n"
     ]
    }
   ],
   "source": [
    "AI4 = RowAdd(AI3,2,0,-3)\n",
    "print(AI4)"
   ]
  },
  {
   "cell_type": "code",
   "execution_count": 7,
   "metadata": {},
   "outputs": [
    {
     "name": "stdout",
     "output_type": "stream",
     "text": [
      "[[  1.   0.   0. -24.  18.   5.]\n",
      " [  0.   1.   0.  20. -15.  -4.]\n",
      " [  0.   0.   1.  -5.   4.   1.]]\n"
     ]
    }
   ],
   "source": [
    "AI5 = RowAdd(AI4,1,0,-2)\n",
    "print(AI5)"
   ]
  },
  {
   "cell_type": "markdown",
   "metadata": {},
   "source": [
    "Dari operasi diatas bisa didapatkan hasil invers dari matriks $A$ adalah"
   ]
  },
  {
   "cell_type": "markdown",
   "metadata": {},
   "source": [
    "$A^{-1} = \n",
    "\\begin{bmatrix}\n",
    "-24 & 18 & 5 \\\\\n",
    "20 & -15 & -4 \\\\\n",
    "-5 & 4 & 1\n",
    "\\end{bmatrix}\n",
    "$"
   ]
  },
  {
   "cell_type": "markdown",
   "metadata": {},
   "source": [
    "Sekarang kita cek apakah matriks $A$ dikalikan dengan matrik $A^{-1}$ sama dengan matriks $I$ atau matriks identitas"
   ]
  },
  {
   "cell_type": "code",
   "execution_count": 8,
   "metadata": {},
   "outputs": [
    {
     "name": "stdout",
     "output_type": "stream",
     "text": [
      "[[1 2 3]\n",
      " [0 1 4]\n",
      " [5 6 0]]\n",
      "[[-24  18   5]\n",
      " [ 20 -15  -4]\n",
      " [ -5   4   1]]\n"
     ]
    }
   ],
   "source": [
    "A = np.array([[1,2,3],[0,1,4],[5,6,0]])\n",
    "AI6 = np.array([[-24,18,5],[20,-15,-4],[-5,4,1]])\n",
    "print(A)\n",
    "print(AI6)"
   ]
  },
  {
   "cell_type": "code",
   "execution_count": 9,
   "metadata": {},
   "outputs": [
    {
     "name": "stdout",
     "output_type": "stream",
     "text": [
      "[[1 0 0]\n",
      " [0 1 0]\n",
      " [0 0 1]]\n"
     ]
    }
   ],
   "source": [
    "I = np.dot(A,AI6)\n",
    "print(I)"
   ]
  },
  {
   "cell_type": "markdown",
   "metadata": {},
   "source": [
    "## Penyelesaian sistem persamaan linier dengan metode Gauss-Jordan (Persamaan 4 variabel)"
   ]
  },
  {
   "cell_type": "markdown",
   "metadata": {},
   "source": [
    "Diberi contoh persamaan linier 4 variabel sebagai berikut\n",
    "- $ 2x_1 + x_2 + x_3 + 3x_4 = 6$ \n",
    "- $ x_1 + 3x_2 + 2x_3 + 5x_4 = 10$ \n",
    "- $ 5x_1 + 4x_2 + 3x_3 + x_4 = 11$ \n",
    "- $ 6x_1 + 5x_2 + 4x_3 + 2x_4 = 14$ "
   ]
  },
  {
   "cell_type": "markdown",
   "metadata": {},
   "source": [
    "Kita buat persamaan $AX = B$ dalam bentuk matriks"
   ]
  },
  {
   "cell_type": "markdown",
   "metadata": {},
   "source": [
    "$AX = B \\\\\n",
    "\\begin{bmatrix}\n",
    "2 & 1 & 1 & 3 \\\\\n",
    "1 & 3 & 2 & 5 \\\\\n",
    "5 & 4 & 3 & 1 \\\\\n",
    "6 & 5 & 4 & 2 \n",
    "\\end{bmatrix}$\n",
    "$\\begin{bmatrix}\n",
    "x_1 \\\\ \n",
    "x_2 \\\\ \n",
    "x_3 \\\\\n",
    "x_4 \\\\\n",
    "\\end{bmatrix}$\n",
    "$=$\n",
    "$\\begin{bmatrix}\n",
    "6 \\\\ \n",
    "10 \\\\\n",
    "11 \\\\\n",
    "14  \n",
    "\\end{bmatrix}$"
   ]
  },
  {
   "cell_type": "markdown",
   "metadata": {},
   "source": [
    "Setelah itu, kita ubah menjadi augmented matrix yang ditambahkan dengan matriks identitas. Kita lambangkan sebagai matriks $AI$"
   ]
  },
  {
   "cell_type": "markdown",
   "metadata": {},
   "source": [
    "$AI =\n",
    "\\begin {bmatrix}\n",
    "2 & 1 & 1 & 3 & 1 & 0 & 0 & 0 \\\\\n",
    "1 & 3 & 2 & 5 & 0 & 1 & 0 & 0 \\\\\n",
    "5 & 4 & 3 & 1 & 0 & 0 & 1 & 0 \\\\\n",
    "6 & 5 & 4 & 2 & 0 & 0 & 0 & 1 \\\\\n",
    "\\end {bmatrix}$"
   ]
  },
  {
   "cell_type": "markdown",
   "metadata": {},
   "source": [
    "Setelah itu kita operasikan hingga menghasilkan matriks $IA^{-1}$"
   ]
  },
  {
   "cell_type": "code",
   "execution_count": 10,
   "metadata": {},
   "outputs": [],
   "source": [
    "# import library numpy\n",
    "import numpy as np\n",
    "\n",
    "def RowSwap(A,k,l):\n",
    "# =============================================================================\n",
    "#     A adalah sebuah NumPy array.  RowSwap akan menghasilkan duplicate dari \n",
    "#     array dengan baris k dan l di tukar\n",
    "# =============================================================================\n",
    "    m = A.shape[0]  # m adalah nomor baris di A\n",
    "    n = A.shape[1]  # n adalah nomor kolom di A\n",
    "\n",
    "    B = np.copy(A).astype('float64')\n",
    "\n",
    "    for j in range(n):\n",
    "        temp = B[k][j]\n",
    "        B[k][j] = B[l][j]\n",
    "        B[l][j] = temp\n",
    "\n",
    "    return B\n",
    "\n",
    "def RowScale(A,k,scale):\n",
    "# =============================================================================\n",
    "#     A adalah sebuah NumPy array.  RowScale akan menghasilkan duplicate dari \n",
    "#     array dengan baris k di kali dengan skalar bukan 0\n",
    "# =============================================================================\n",
    "    m = A.shape[0]  # m adalah nomor baris di A\n",
    "    n = A.shape[1]  # n adalah nomor kolom di A\n",
    "\n",
    "    B = np.copy(A).astype('float64')\n",
    "\n",
    "    for j in range(n):\n",
    "        B[k][j] *= scale\n",
    "\n",
    "    return B\n",
    "\n",
    "def RowAdd(A,k,l,scale):\n",
    "# =============================================================================\n",
    "#     A adalah sebuah NumPy array.  RowAdd akan menghasilkan duplicate dari \n",
    "#     array dengan baris k akan di kali dengan 'scale' bukan 0. lalu nilai\n",
    "#     baris l akan di tambah dengan nilai baris k yang sudah dikalikan  \n",
    "# =============================================================================\n",
    "    m = A.shape[0]  # m adalah nomor baris di A\n",
    "    n = A.shape[1]  # n adalah nomor kolom di A\n",
    "\n",
    "    B = np.copy(A).astype('float64')\n",
    "\n",
    "    for j in range(n):\n",
    "        B[l][j] += B[k][j]*scale\n",
    "\n",
    "    return B"
   ]
  },
  {
   "cell_type": "code",
   "execution_count": 11,
   "metadata": {},
   "outputs": [
    {
     "name": "stdout",
     "output_type": "stream",
     "text": [
      "[[2 1 1 3 1 0 0 0]\n",
      " [1 3 2 5 0 1 0 0]\n",
      " [5 4 3 1 0 0 1 0]\n",
      " [6 5 4 2 0 0 0 1]]\n"
     ]
    }
   ],
   "source": [
    "BI = np.array([[2,1,1,3,1,0,0,0],[1,3,2,5,0,1,0,0],[5,4,3,1,0,0,1,0],[6,5,4,2,0,0,0,1]])\n",
    "print(BI)"
   ]
  },
  {
   "cell_type": "code",
   "execution_count": 12,
   "metadata": {},
   "outputs": [
    {
     "name": "stdout",
     "output_type": "stream",
     "text": [
      "[[ 2.  1.  1.  3.  1.  0.  0.  0.]\n",
      " [-5.  0. -1. -4. -3.  1.  0.  0.]\n",
      " [ 5.  4.  3.  1.  0.  0.  1.  0.]\n",
      " [ 6.  5.  4.  2.  0.  0.  0.  1.]]\n"
     ]
    }
   ],
   "source": [
    "BI1 = RowAdd(BI,0,1,-3)\n",
    "print(BI1)"
   ]
  },
  {
   "cell_type": "code",
   "execution_count": 13,
   "metadata": {},
   "outputs": [
    {
     "name": "stdout",
     "output_type": "stream",
     "text": [
      "[[  2.   1.   1.   3.   1.   0.   0.   0.]\n",
      " [ -5.   0.  -1.  -4.  -3.   1.   0.   0.]\n",
      " [ -3.   0.  -1. -11.  -4.   0.   1.   0.]\n",
      " [  6.   5.   4.   2.   0.   0.   0.   1.]]\n"
     ]
    }
   ],
   "source": [
    "BI2 = RowAdd(BI1,0,2,-4)\n",
    "print(BI2)"
   ]
  },
  {
   "cell_type": "code",
   "execution_count": 14,
   "metadata": {},
   "outputs": [
    {
     "name": "stdout",
     "output_type": "stream",
     "text": [
      "[[  2.   1.   1.   3.   1.   0.   0.   0.]\n",
      " [ -5.   0.  -1.  -4.  -3.   1.   0.   0.]\n",
      " [ -3.   0.  -1. -11.  -4.   0.   1.   0.]\n",
      " [ -4.   0.  -1. -13.  -5.   0.   0.   1.]]\n"
     ]
    }
   ],
   "source": [
    "BI3 = RowAdd(BI2,0,3,-5)\n",
    "print(BI3)"
   ]
  },
  {
   "cell_type": "code",
   "execution_count": 15,
   "metadata": {},
   "outputs": [
    {
     "name": "stdout",
     "output_type": "stream",
     "text": [
      "[[  2.   1.   1.   3.   1.   0.   0.   0.]\n",
      " [  5.  -0.   1.   4.   3.  -1.  -0.  -0.]\n",
      " [ -3.   0.  -1. -11.  -4.   0.   1.   0.]\n",
      " [ -4.   0.  -1. -13.  -5.   0.   0.   1.]]\n"
     ]
    }
   ],
   "source": [
    "BI4 = RowScale(BI3,1,-1)\n",
    "print(BI4)"
   ]
  },
  {
   "cell_type": "code",
   "execution_count": 16,
   "metadata": {},
   "outputs": [
    {
     "name": "stdout",
     "output_type": "stream",
     "text": [
      "[[  2.   1.   1.   3.   1.   0.   0.   0.]\n",
      " [  5.  -0.   1.   4.   3.  -1.  -0.  -0.]\n",
      " [  3.  -0.   1.  11.   4.  -0.  -1.  -0.]\n",
      " [ -4.   0.  -1. -13.  -5.   0.   0.   1.]]\n"
     ]
    }
   ],
   "source": [
    "BI5 = RowScale(BI4,2,-1)\n",
    "print(BI5)"
   ]
  },
  {
   "cell_type": "code",
   "execution_count": 17,
   "metadata": {},
   "outputs": [
    {
     "name": "stdout",
     "output_type": "stream",
     "text": [
      "[[ 2.  1.  1.  3.  1.  0.  0.  0.]\n",
      " [ 5. -0.  1.  4.  3. -1. -0. -0.]\n",
      " [ 3. -0.  1. 11.  4. -0. -1. -0.]\n",
      " [ 4. -0.  1. 13.  5. -0. -0. -1.]]\n"
     ]
    }
   ],
   "source": [
    "BI6 = RowScale(BI5,3,-1)\n",
    "print(BI6)"
   ]
  },
  {
   "cell_type": "code",
   "execution_count": 18,
   "metadata": {},
   "outputs": [
    {
     "name": "stdout",
     "output_type": "stream",
     "text": [
      "[[-3.  1.  0. -1. -2.  1.  0.  0.]\n",
      " [ 5. -0.  1.  4.  3. -1. -0. -0.]\n",
      " [ 3. -0.  1. 11.  4. -0. -1. -0.]\n",
      " [ 4. -0.  1. 13.  5. -0. -0. -1.]]\n"
     ]
    }
   ],
   "source": [
    "BI7= RowAdd(BI6,1,0,-1)\n",
    "print(BI7)"
   ]
  },
  {
   "cell_type": "code",
   "execution_count": 19,
   "metadata": {},
   "outputs": [
    {
     "name": "stdout",
     "output_type": "stream",
     "text": [
      "[[-3.  1.  0. -1. -2.  1.  0.  0.]\n",
      " [ 5. -0.  1.  4.  3. -1. -0. -0.]\n",
      " [-2.  0.  0.  7.  1.  1. -1.  0.]\n",
      " [ 4. -0.  1. 13.  5. -0. -0. -1.]]\n"
     ]
    }
   ],
   "source": [
    "BI8 = RowAdd(BI7,1,2,-1)\n",
    "print(BI8)"
   ]
  },
  {
   "cell_type": "code",
   "execution_count": 20,
   "metadata": {},
   "outputs": [
    {
     "name": "stdout",
     "output_type": "stream",
     "text": [
      "[[-3.  1.  0. -1. -2.  1.  0.  0.]\n",
      " [ 5. -0.  1.  4.  3. -1. -0. -0.]\n",
      " [-2.  0.  0.  7.  1.  1. -1.  0.]\n",
      " [-1.  0.  0.  9.  2.  1.  0. -1.]]\n"
     ]
    }
   ],
   "source": [
    "BI9 = RowAdd(BI8,1,3,-1)\n",
    "print(BI9)"
   ]
  },
  {
   "cell_type": "code",
   "execution_count": 21,
   "metadata": {},
   "outputs": [
    {
     "name": "stdout",
     "output_type": "stream",
     "text": [
      "[[  0.   1.   0. -28.  -8.  -2.   0.   3.]\n",
      " [  5.  -0.   1.   4.   3.  -1.  -0.  -0.]\n",
      " [ -2.   0.   0.   7.   1.   1.  -1.   0.]\n",
      " [ -1.   0.   0.   9.   2.   1.   0.  -1.]]\n"
     ]
    }
   ],
   "source": [
    "BI10 = RowAdd(BI9,3,0,-3)\n",
    "print(BI10)"
   ]
  },
  {
   "cell_type": "code",
   "execution_count": 22,
   "metadata": {},
   "outputs": [
    {
     "name": "stdout",
     "output_type": "stream",
     "text": [
      "[[  0.   1.   0. -28.  -8.  -2.   0.   3.]\n",
      " [  0.   0.   1.  49.  13.   4.   0.  -5.]\n",
      " [ -2.   0.   0.   7.   1.   1.  -1.   0.]\n",
      " [ -1.   0.   0.   9.   2.   1.   0.  -1.]]\n"
     ]
    }
   ],
   "source": [
    "BI11 = RowAdd(BI10,3,1,5)\n",
    "print(BI11)"
   ]
  },
  {
   "cell_type": "code",
   "execution_count": 23,
   "metadata": {},
   "outputs": [
    {
     "ename": "NameError",
     "evalue": "name 'B11' is not defined",
     "output_type": "error",
     "traceback": [
      "\u001b[0;31m---------------------------------------------------------------------------\u001b[0m",
      "\u001b[0;31mNameError\u001b[0m                                 Traceback (most recent call last)",
      "Cell \u001b[0;32mIn[23], line 1\u001b[0m\n\u001b[0;32m----> 1\u001b[0m BI12 \u001b[38;5;241m=\u001b[39m RowAdd(\u001b[43mB11\u001b[49m,\u001b[38;5;241m3\u001b[39m,\u001b[38;5;241m2\u001b[39m,\u001b[38;5;241m-\u001b[39m\u001b[38;5;241m2\u001b[39m)\n\u001b[1;32m      2\u001b[0m \u001b[38;5;28mprint\u001b[39m(BI12)\n",
      "\u001b[0;31mNameError\u001b[0m: name 'B11' is not defined"
     ]
    }
   ],
   "source": [
    "BI12 = RowAdd(B11,3,2,-2)\n",
    "print(BI12)"
   ]
  },
  {
   "cell_type": "code",
   "execution_count": null,
   "metadata": {},
   "outputs": [
    {
     "name": "stdout",
     "output_type": "stream",
     "text": [
      "[[  0.           1.           0.         -28.          -8.\n",
      "   -2.           0.           3.        ]\n",
      " [  0.           0.           1.          49.          13.\n",
      "    4.           0.          -5.        ]\n",
      " [ -0.          -0.          -0.           1.           0.27272727\n",
      "    0.09090909   0.09090909  -0.18181818]\n",
      " [ -1.           0.           0.           9.           2.\n",
      "    1.           0.          -1.        ]]\n"
     ]
    }
   ],
   "source": [
    "BI13 = RowScale(B12,2,-1/11)\n",
    "print(BI13)"
   ]
  },
  {
   "cell_type": "code",
   "execution_count": null,
   "metadata": {},
   "outputs": [
    {
     "name": "stdout",
     "output_type": "stream",
     "text": [
      "[[ 0.          1.          0.          0.         -0.36363636  0.54545455\n",
      "   2.54545455 -2.09090909]\n",
      " [ 0.          0.          1.         49.         13.          4.\n",
      "   0.         -5.        ]\n",
      " [-0.         -0.         -0.          1.          0.27272727  0.09090909\n",
      "   0.09090909 -0.18181818]\n",
      " [-1.          0.          0.          9.          2.          1.\n",
      "   0.         -1.        ]]\n"
     ]
    }
   ],
   "source": [
    "BI14 =  RowAdd(BI13,2,0,28)\n",
    "print(BI14)"
   ]
  },
  {
   "cell_type": "code",
   "execution_count": null,
   "metadata": {},
   "outputs": [
    {
     "name": "stdout",
     "output_type": "stream",
     "text": [
      "[[ 0.          1.          0.          0.         -0.36363636  0.54545455\n",
      "   2.54545455 -2.09090909]\n",
      " [ 0.          0.          1.          0.         -0.36363636 -0.45454545\n",
      "  -4.45454545  3.90909091]\n",
      " [-0.         -0.         -0.          1.          0.27272727  0.09090909\n",
      "   0.09090909 -0.18181818]\n",
      " [-1.          0.          0.          9.          2.          1.\n",
      "   0.         -1.        ]]\n"
     ]
    }
   ],
   "source": [
    "BI15 = RowAdd(BI14,2,1,-49)\n",
    "print(BI15)"
   ]
  },
  {
   "cell_type": "code",
   "execution_count": null,
   "metadata": {},
   "outputs": [
    {
     "name": "stdout",
     "output_type": "stream",
     "text": [
      "[[ 0.          1.          0.          0.         -0.36363636  0.54545455\n",
      "   2.54545455 -2.09090909]\n",
      " [ 0.          0.          1.          0.         -0.36363636 -0.45454545\n",
      "  -4.45454545  3.90909091]\n",
      " [-0.         -0.         -0.          1.          0.27272727  0.09090909\n",
      "   0.09090909 -0.18181818]\n",
      " [-1.          0.          0.          0.         -0.45454545  0.18181818\n",
      "  -0.81818182  0.63636364]]\n"
     ]
    }
   ],
   "source": [
    "BI16 = RowAdd(BI15,2,3,-9)\n",
    "print(BI16)"
   ]
  },
  {
   "cell_type": "code",
   "execution_count": null,
   "metadata": {},
   "outputs": [
    {
     "name": "stdout",
     "output_type": "stream",
     "text": [
      "[[ 0.          1.          0.          0.         -0.36363636  0.54545455\n",
      "   2.54545455 -2.09090909]\n",
      " [ 0.          0.          1.          0.         -0.36363636 -0.45454545\n",
      "  -4.45454545  3.90909091]\n",
      " [-0.         -0.         -0.          1.          0.27272727  0.09090909\n",
      "   0.09090909 -0.18181818]\n",
      " [ 1.         -0.         -0.         -0.          0.45454545 -0.18181818\n",
      "   0.81818182 -0.63636364]]\n"
     ]
    }
   ],
   "source": [
    "BI17 = RowScale(BI16,3,-1)\n",
    "print(BI17)"
   ]
  },
  {
   "cell_type": "code",
   "execution_count": null,
   "metadata": {},
   "outputs": [
    {
     "name": "stdout",
     "output_type": "stream",
     "text": [
      "[[ 1.         -0.         -0.         -0.          0.45454545 -0.18181818\n",
      "   0.81818182 -0.63636364]\n",
      " [ 0.          0.          1.          0.         -0.36363636 -0.45454545\n",
      "  -4.45454545  3.90909091]\n",
      " [-0.         -0.         -0.          1.          0.27272727  0.09090909\n",
      "   0.09090909 -0.18181818]\n",
      " [ 0.          1.          0.          0.         -0.36363636  0.54545455\n",
      "   2.54545455 -2.09090909]]\n"
     ]
    }
   ],
   "source": [
    "BI18 = RowSwap(BI17,3,0)\n",
    "print(BI18)"
   ]
  },
  {
   "cell_type": "code",
   "execution_count": null,
   "metadata": {},
   "outputs": [
    {
     "name": "stdout",
     "output_type": "stream",
     "text": [
      "[[ 1.         -0.         -0.         -0.          0.45454545 -0.18181818\n",
      "   0.81818182 -0.63636364]\n",
      " [ 0.          1.          0.          0.         -0.36363636  0.54545455\n",
      "   2.54545455 -2.09090909]\n",
      " [-0.         -0.         -0.          1.          0.27272727  0.09090909\n",
      "   0.09090909 -0.18181818]\n",
      " [ 0.          0.          1.          0.         -0.36363636 -0.45454545\n",
      "  -4.45454545  3.90909091]]\n"
     ]
    }
   ],
   "source": [
    "BI19 = RowSwap(BI18,3,1)\n",
    "print(BI19)"
   ]
  },
  {
   "cell_type": "code",
   "execution_count": null,
   "metadata": {},
   "outputs": [
    {
     "name": "stdout",
     "output_type": "stream",
     "text": [
      "[[ 1.         -0.         -0.         -0.          0.45454545 -0.18181818\n",
      "   0.81818182 -0.63636364]\n",
      " [ 0.          1.          0.          0.         -0.36363636  0.54545455\n",
      "   2.54545455 -2.09090909]\n",
      " [ 0.          0.          1.          0.         -0.36363636 -0.45454545\n",
      "  -4.45454545  3.90909091]\n",
      " [-0.         -0.         -0.          1.          0.27272727  0.09090909\n",
      "   0.09090909 -0.18181818]]\n"
     ]
    }
   ],
   "source": [
    "BI20 = RowSwap(BI19,2,3)\n",
    "print(BI20)"
   ]
  },
  {
   "cell_type": "code",
   "execution_count": null,
   "metadata": {},
   "outputs": [
    {
     "name": "stdout",
     "output_type": "stream",
     "text": [
      "[[ 0.45454545 -0.18181818  0.81818182 -0.63636364]\n",
      " [-0.36363636  0.54545455  2.54545455 -2.09090909]\n",
      " [-0.36363636 -0.45454545 -4.45454545  3.90909091]\n",
      " [ 0.27272727  0.09090909  0.09090909 -0.18181818]]\n"
     ]
    }
   ],
   "source": [
    "B = np.array([[2,1,1,3],[1,3,2,5],[5,4,3,1],[6,5,4,2]])\n",
    "BS = np.linalg.inv(B)\n",
    "print(BS)"
   ]
  },
  {
   "cell_type": "markdown",
   "metadata": {},
   "source": [
    "$AX = B \\\\\n",
    "A^{-1}A X = A^{-1}B\n",
    "IX = A^{-1}B$\n"
   ]
  },
  {
   "cell_type": "markdown",
   "metadata": {},
   "source": [
    "Setelah ketemu invers matriksnya kita operasikan untuk menemukan X dengan mengalikan matriks $A^{-1}$ dengan matriks $B$"
   ]
  },
  {
   "cell_type": "markdown",
   "metadata": {},
   "source": [
    "$IX = A^{-1}B$"
   ]
  },
  {
   "cell_type": "markdown",
   "metadata": {},
   "source": [
    "$\\begin{bmatrix}\n",
    "1 & 0 & 0 & 0 \\\\\n",
    "0 & 1 & 0 & 0 \\\\\n",
    "0 & 0 & 1 & 0 \\\\\n",
    "0 & 0 & 0 & 1\n",
    "\\end{bmatrix}$\n",
    "$\\begin{bmatrix}\n",
    "x_1 \\\\ \n",
    "x_2 \\\\ \n",
    "x_3 \\\\\n",
    "x_4 \\\\\n",
    "\\end{bmatrix}$\n",
    "$=$\n",
    "$\\begin{bmatrix}\n",
    "0.45454545 & -0.18181818 & 0.81818182 & -0.63636364 \\\\\n",
    "-0.36363636 & 0.54545455 & 2.54545455 & -2.09090909 \\\\\n",
    "-0.36363636 & -0.45454545 & -4.45454545 & 3.90909091 \\\\\n",
    "0.27272727 & 0.09090909 & 0.09090909 & -0.18181818\n",
    "\\end{bmatrix}$\n",
    "$\\begin{bmatrix}\n",
    "6 \\\\ \n",
    "10 \\\\\n",
    "11 \\\\\n",
    "14  \n",
    "\\end{bmatrix}$\n"
   ]
  },
  {
   "cell_type": "markdown",
   "metadata": {},
   "source": [
    "Setelah itu kita operasikan menggunakan fungsi **NumPy** pada Python "
   ]
  },
  {
   "cell_type": "code",
   "execution_count": null,
   "metadata": {},
   "outputs": [
    {
     "name": "stdout",
     "output_type": "stream",
     "text": [
      "[[ 1.]\n",
      " [ 2.]\n",
      " [-1.]\n",
      " [ 1.]]\n"
     ]
    }
   ],
   "source": [
    "B = np.array ([[6,10,11,14]])\n",
    "BT = B.transpose() \n",
    "X = np.dot(BS,BT)\n",
    "print(X)"
   ]
  },
  {
   "cell_type": "markdown",
   "metadata": {},
   "source": [
    "Dari operasi diatas bisa kita dapatkan nilai dari $x_1, x_2, x_3, x_4$ adalah"
   ]
  },
  {
   "cell_type": "markdown",
   "metadata": {},
   "source": [
    "$x_1 = 1 \\\\\n",
    "x_2 = 2 \\\\\n",
    "x_3 = -1 \\\\\n",
    "x_4 = 1$"
   ]
  }
 ],
 "metadata": {
  "kernelspec": {
   "display_name": "Python 3",
   "language": "python",
   "name": "python3"
  },
  "language_info": {
   "codemirror_mode": {
    "name": "ipython",
    "version": 3
   },
   "file_extension": ".py",
   "mimetype": "text/x-python",
   "name": "python",
   "nbconvert_exporter": "python",
   "pygments_lexer": "ipython3",
   "version": "3.10.13"
  }
 },
 "nbformat": 4,
 "nbformat_minor": 2
}